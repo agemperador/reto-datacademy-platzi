{
 "cells": [
  {
   "cell_type": "markdown",
   "source": "# Análisis de los 25 retailers más grandes de Estados Unidos",
   "metadata": {
    "cell_id": "1df879a0-53cd-4031-a50b-2c2fe17304a4",
    "tags": [],
    "is_collapsed": false,
    "deepnote_cell_height": 186,
    "deepnote_app_coordinates": {
     "x": 0,
     "y": null,
     "w": 12,
     "h": 5
    },
    "deepnote_cell_type": "text-cell-h1"
   }
  },
  {
   "cell_type": "code",
   "metadata": {
    "tags": [],
    "cell_id": "3347a937-91c3-4305-b06c-213bb2f3bcaf",
    "deepnote_cell_height": 66,
    "deepnote_to_be_reexecuted": false,
    "source_hash": "babff484",
    "execution_start": 1645680912019,
    "execution_millis": 4788,
    "deepnote_app_coordinates": {
     "x": 0,
     "y": 6,
     "w": 12,
     "h": 5
    },
    "deepnote_cell_type": "code"
   },
   "source": "# Importar librerías aquí\nimport pandas as pd\nimport seaborn as sns\nimport matplotlib.pyplot as plt\nimport numpy as np\nfrom colors import *",
   "execution_count": 1,
   "outputs": []
  },
  {
   "cell_type": "code",
   "metadata": {
    "cell_id": "081fdaf2-888a-4a54-9495-467464cfc400",
    "tags": [],
    "deepnote_cell_height": 66,
    "deepnote_to_be_reexecuted": false,
    "source_hash": "cdabf045",
    "execution_start": 1645680916816,
    "execution_millis": 126,
    "deepnote_app_coordinates": {
     "x": 0,
     "y": 12,
     "w": 12,
     "h": 5
    },
    "deepnote_cell_type": "code"
   },
   "source": "# Importar datos aquí\ndf = pd.read_csv('largest_us_retailers.csv')\ndf",
   "execution_count": 2,
   "outputs": [
    {
     "output_type": "execute_result",
     "execution_count": 2,
     "data": {
      "application/vnd.deepnote.dataframe.v3+json": {
       "column_count": 6,
       "row_count": 25,
       "columns": [
        {
         "name": "Company",
         "dtype": "object",
         "stats": {
          "unique_count": 25,
          "nan_count": 0,
          "categories": [
           {
            "name": "Walmart US",
            "count": 1
           },
           {
            "name": "Kroger",
            "count": 1
           },
           {
            "name": "23 others",
            "count": 23
           }
          ]
         }
        },
        {
         "name": "Sales",
         "dtype": "int64",
         "stats": {
          "unique_count": 25,
          "nan_count": 0,
          "min": "16592",
          "max": "658119",
          "histogram": [
           {
            "bin_start": 16592,
            "bin_end": 80744.7,
            "count": 21
           },
           {
            "bin_start": 80744.7,
            "bin_end": 144897.4,
            "count": 3
           },
           {
            "bin_start": 144897.4,
            "bin_end": 209050.09999999998,
            "count": 0
           },
           {
            "bin_start": 209050.09999999998,
            "bin_end": 273202.8,
            "count": 0
           },
           {
            "bin_start": 273202.8,
            "bin_end": 337355.5,
            "count": 0
           },
           {
            "bin_start": 337355.5,
            "bin_end": 401508.19999999995,
            "count": 0
           },
           {
            "bin_start": 401508.19999999995,
            "bin_end": 465660.89999999997,
            "count": 0
           },
           {
            "bin_start": 465660.89999999997,
            "bin_end": 529813.6,
            "count": 0
           },
           {
            "bin_start": 529813.6,
            "bin_end": 593966.2999999999,
            "count": 0
           },
           {
            "bin_start": 593966.2999999999,
            "bin_end": 658119,
            "count": 1
           }
          ]
         }
        },
        {
         "name": "Stores",
         "dtype": "float64",
         "stats": {
          "unique_count": 23,
          "nan_count": 2,
          "min": "231.0",
          "max": "14250.0",
          "histogram": [
           {
            "bin_start": 231,
            "bin_end": 1632.9,
            "count": 10
           },
           {
            "bin_start": 1632.9,
            "bin_end": 3034.8,
            "count": 6
           },
           {
            "bin_start": 3034.8,
            "bin_end": 4436.700000000001,
            "count": 1
           },
           {
            "bin_start": 4436.700000000001,
            "bin_end": 5838.6,
            "count": 2
           },
           {
            "bin_start": 5838.6,
            "bin_end": 7240.5,
            "count": 0
           },
           {
            "bin_start": 7240.5,
            "bin_end": 8642.400000000001,
            "count": 1
           },
           {
            "bin_start": 8642.400000000001,
            "bin_end": 10044.300000000001,
            "count": 1
           },
           {
            "bin_start": 10044.300000000001,
            "bin_end": 11446.2,
            "count": 0
           },
           {
            "bin_start": 11446.2,
            "bin_end": 12848.1,
            "count": 0
           },
           {
            "bin_start": 12848.1,
            "bin_end": 14250,
            "count": 2
           }
          ]
         }
        },
        {
         "name": "Sales/Avg. Store",
         "dtype": "float64",
         "stats": {
          "unique_count": 23,
          "nan_count": 2,
          "min": "1.56391854",
          "max": "187.7956204",
          "histogram": [
           {
            "bin_start": 1.56391854,
            "bin_end": 20.187088726,
            "count": 9
           },
           {
            "bin_start": 20.187088726,
            "bin_end": 38.810258912,
            "count": 7
           },
           {
            "bin_start": 38.810258912,
            "bin_end": 57.433429098000005,
            "count": 2
           },
           {
            "bin_start": 57.433429098000005,
            "bin_end": 76.056599284,
            "count": 3
           },
           {
            "bin_start": 76.056599284,
            "bin_end": 94.67976947,
            "count": 1
           },
           {
            "bin_start": 94.67976947,
            "bin_end": 113.302939656,
            "count": 0
           },
           {
            "bin_start": 113.302939656,
            "bin_end": 131.926109842,
            "count": 0
           },
           {
            "bin_start": 131.926109842,
            "bin_end": 150.549280028,
            "count": 0
           },
           {
            "bin_start": 150.549280028,
            "bin_end": 169.172450214,
            "count": 0
           },
           {
            "bin_start": 169.172450214,
            "bin_end": 187.7956204,
            "count": 1
           }
          ]
         }
        },
        {
         "name": "Store Count Growth",
         "dtype": "float64",
         "stats": {
          "unique_count": 23,
          "nan_count": 2,
          "min": "-0.05951506245",
          "max": "0.2556621881",
          "histogram": [
           {
            "bin_start": -0.05951506245,
            "bin_end": -0.027997337395000002,
            "count": 3
           },
           {
            "bin_start": -0.027997337395000002,
            "bin_end": 0.003520387659999999,
            "count": 4
           },
           {
            "bin_start": 0.003520387659999999,
            "bin_end": 0.035038112715,
            "count": 6
           },
           {
            "bin_start": 0.035038112715,
            "bin_end": 0.06655583777,
            "count": 2
           },
           {
            "bin_start": 0.06655583777,
            "bin_end": 0.098073562825,
            "count": 5
           },
           {
            "bin_start": 0.098073562825,
            "bin_end": 0.12959128788000002,
            "count": 1
           },
           {
            "bin_start": 0.12959128788000002,
            "bin_end": 0.16110901293500002,
            "count": 1
           },
           {
            "bin_start": 0.16110901293500002,
            "bin_end": 0.19262673799000002,
            "count": 0
           },
           {
            "bin_start": 0.19262673799000002,
            "bin_end": 0.22414446304500002,
            "count": 0
           },
           {
            "bin_start": 0.22414446304500002,
            "bin_end": 0.2556621881,
            "count": 1
           }
          ]
         }
        },
        {
         "name": "Category",
         "dtype": "object",
         "stats": {
          "unique_count": 11,
          "nan_count": 1,
          "categories": [
           {
            "name": "Grocery",
            "count": 7
           },
           {
            "name": "10 others",
            "count": 17
           },
           {
            "name": "Missing",
            "count": 1
           }
          ]
         }
        },
        {
         "name": "_deepnote_index_column",
         "dtype": "int64"
        }
       ],
       "rows": [
        {
         "Company": "Walmart US",
         "Sales": 658119,
         "Stores": 4574,
         "Sales/Avg. Store": 65.64972497,
         "Store Count Growth": 0.01284322409,
         "Category": "Supercenters",
         "_deepnote_index_column": 0
        },
        {
         "Company": "Kroger",
         "Sales": 115037,
         "Stores": 3931,
         "Sales/Avg. Store": 30.03184963,
         "Store Count Growth": 0.05388739946,
         "Category": "Grocery",
         "_deepnote_index_column": 1
        },
        {
         "Company": "Costco",
         "Sales": 90048,
         "Stores": 495,
         "Sales/Avg. Store": 187.7956204,
         "Store Count Growth": 0.06681034483,
         "Category": "Warehouse Club",
         "_deepnote_index_column": 2
        },
        {
         "Company": "Home Depot",
         "Sales": 83976,
         "Stores": 1965,
         "Sales/Avg. Store": 42.73587786,
         "Store Count Growth": 0,
         "Category": "Home Improvement",
         "_deepnote_index_column": 3
        },
        {
         "Company": "Walgreen Boots",
         "Sales": 78924,
         "Stores": 8002,
         "Sales/Avg. Store": 9.81092672,
         "Store Count Growth": -0.01051069618,
         "Category": "Drug Stores",
         "_deepnote_index_column": 4
        },
        {
         "Company": "CVS incl. Target",
         "Sales": 77792,
         "Stores": 9813,
         "Sales/Avg. Store": 8.825958702,
         "Store Count Growth": 0.2556621881,
         "Category": "Drug Stores",
         "_deepnote_index_column": 5
        },
        {
         "Company": "Amazon",
         "Sales": 71687,
         "Stores": "nan",
         "Sales/Avg. Store": "nan",
         "Store Count Growth": "nan",
         "Category": "Electronic/Mail Order",
         "_deepnote_index_column": 6
        },
        {
         "Company": "Target",
         "Sales": 71208,
         "Stores": 1772,
         "Sales/Avg. Store": 39.98203257,
         "Store Count Growth": -0.01005586592,
         "Category": "Supercenters",
         "_deepnote_index_column": 7
        },
        {
         "Company": "Lowe's",
         "Sales": 60311,
         "Stores": 1828,
         "Sales/Avg. Store": 33.31179232,
         "Store Count Growth": 0.01952035694,
         "Category": "Home Improvement",
         "_deepnote_index_column": 8
        },
        {
         "Company": "Albertsons",
         "Sales": 56829,
         "Stores": 2326,
         "Sales/Avg. Store": 23.87773109,
         "Store Count Growth": -0.04437140509,
         "Category": "Grocery",
         "_deepnote_index_column": 9
        }
       ]
      },
      "text/plain": "               Company   Sales   Stores  Sales/Avg. Store  Store Count Growth  \\\n0           Walmart US  658119   4574.0         65.649725            0.012843   \n1               Kroger  115037   3931.0         30.031850            0.053887   \n2               Costco   90048    495.0        187.795620            0.066810   \n3           Home Depot   83976   1965.0         42.735878            0.000000   \n4       Walgreen Boots   78924   8002.0          9.810927           -0.010511   \n5     CVS incl. Target   77792   9813.0          8.825959            0.255662   \n6               Amazon   71687      NaN               NaN                 NaN   \n7               Target   71208   1772.0         39.982033           -0.010056   \n8               Lowe's   60311   1828.0         33.311792            0.019520   \n9           Albertsons   56829   2326.0         23.877731           -0.044371   \n10          Sam's Club   56828    655.0         87.293395            0.012365   \n11  Apple incl. Online   37664      NaN               NaN                 NaN   \n12            Best Buy   34980   1389.0         24.685956           -0.038754   \n13              Publix   34408   1351.0         25.997733            0.042438   \n14            Rite Aid   27486   4553.0          6.025649           -0.003720   \n15               Ahold   26903    794.0         34.446863            0.033854   \n16              Macy's   26028    889.0         30.442105            0.082826   \n17                 TJX   25012   2770.0          9.369545            0.078241   \n18                Aldi   24402   2021.0         12.715998            0.112273   \n19      Dollar General   22234  13350.0          1.768885            0.132412   \n20         Dollar Tree   21464  14250.0          1.563919            0.079627   \n21                 HEB   21384    323.0         66.825000            0.018927   \n22              Kohl's   19060   1169.0         16.353496            0.006024   \n23            Delhaize   18201   1280.0         13.783415           -0.059515   \n24              Meijer   16592    231.0         74.738739            0.084507   \n\n                 Category  \n0            Supercenters  \n1                 Grocery  \n2          Warehouse Club  \n3        Home Improvement  \n4             Drug Stores  \n5             Drug Stores  \n6   Electronic/Mail Order  \n7            Supercenters  \n8        Home Improvement  \n9                 Grocery  \n10        Warehouse Clubs  \n11                    NaN  \n12            Electronics  \n13                Grocery  \n14            Drug Stores  \n15                Grocery  \n16      Department Stores  \n17                Apparel  \n18                Grocery  \n19          Dollar Stores  \n20          Dollar Stores  \n21                Grocery  \n22      Department Stores  \n23                Grocery  \n24           Supercenters  ",
      "text/html": "<div>\n<style scoped>\n    .dataframe tbody tr th:only-of-type {\n        vertical-align: middle;\n    }\n\n    .dataframe tbody tr th {\n        vertical-align: top;\n    }\n\n    .dataframe thead th {\n        text-align: right;\n    }\n</style>\n<table border=\"1\" class=\"dataframe\">\n  <thead>\n    <tr style=\"text-align: right;\">\n      <th></th>\n      <th>Company</th>\n      <th>Sales</th>\n      <th>Stores</th>\n      <th>Sales/Avg. Store</th>\n      <th>Store Count Growth</th>\n      <th>Category</th>\n    </tr>\n  </thead>\n  <tbody>\n    <tr>\n      <th>0</th>\n      <td>Walmart US</td>\n      <td>658119</td>\n      <td>4574.0</td>\n      <td>65.649725</td>\n      <td>0.012843</td>\n      <td>Supercenters</td>\n    </tr>\n    <tr>\n      <th>1</th>\n      <td>Kroger</td>\n      <td>115037</td>\n      <td>3931.0</td>\n      <td>30.031850</td>\n      <td>0.053887</td>\n      <td>Grocery</td>\n    </tr>\n    <tr>\n      <th>2</th>\n      <td>Costco</td>\n      <td>90048</td>\n      <td>495.0</td>\n      <td>187.795620</td>\n      <td>0.066810</td>\n      <td>Warehouse Club</td>\n    </tr>\n    <tr>\n      <th>3</th>\n      <td>Home Depot</td>\n      <td>83976</td>\n      <td>1965.0</td>\n      <td>42.735878</td>\n      <td>0.000000</td>\n      <td>Home Improvement</td>\n    </tr>\n    <tr>\n      <th>4</th>\n      <td>Walgreen Boots</td>\n      <td>78924</td>\n      <td>8002.0</td>\n      <td>9.810927</td>\n      <td>-0.010511</td>\n      <td>Drug Stores</td>\n    </tr>\n    <tr>\n      <th>5</th>\n      <td>CVS incl. Target</td>\n      <td>77792</td>\n      <td>9813.0</td>\n      <td>8.825959</td>\n      <td>0.255662</td>\n      <td>Drug Stores</td>\n    </tr>\n    <tr>\n      <th>6</th>\n      <td>Amazon</td>\n      <td>71687</td>\n      <td>NaN</td>\n      <td>NaN</td>\n      <td>NaN</td>\n      <td>Electronic/Mail Order</td>\n    </tr>\n    <tr>\n      <th>7</th>\n      <td>Target</td>\n      <td>71208</td>\n      <td>1772.0</td>\n      <td>39.982033</td>\n      <td>-0.010056</td>\n      <td>Supercenters</td>\n    </tr>\n    <tr>\n      <th>8</th>\n      <td>Lowe's</td>\n      <td>60311</td>\n      <td>1828.0</td>\n      <td>33.311792</td>\n      <td>0.019520</td>\n      <td>Home Improvement</td>\n    </tr>\n    <tr>\n      <th>9</th>\n      <td>Albertsons</td>\n      <td>56829</td>\n      <td>2326.0</td>\n      <td>23.877731</td>\n      <td>-0.044371</td>\n      <td>Grocery</td>\n    </tr>\n    <tr>\n      <th>10</th>\n      <td>Sam's Club</td>\n      <td>56828</td>\n      <td>655.0</td>\n      <td>87.293395</td>\n      <td>0.012365</td>\n      <td>Warehouse Clubs</td>\n    </tr>\n    <tr>\n      <th>11</th>\n      <td>Apple incl. Online</td>\n      <td>37664</td>\n      <td>NaN</td>\n      <td>NaN</td>\n      <td>NaN</td>\n      <td>NaN</td>\n    </tr>\n    <tr>\n      <th>12</th>\n      <td>Best Buy</td>\n      <td>34980</td>\n      <td>1389.0</td>\n      <td>24.685956</td>\n      <td>-0.038754</td>\n      <td>Electronics</td>\n    </tr>\n    <tr>\n      <th>13</th>\n      <td>Publix</td>\n      <td>34408</td>\n      <td>1351.0</td>\n      <td>25.997733</td>\n      <td>0.042438</td>\n      <td>Grocery</td>\n    </tr>\n    <tr>\n      <th>14</th>\n      <td>Rite Aid</td>\n      <td>27486</td>\n      <td>4553.0</td>\n      <td>6.025649</td>\n      <td>-0.003720</td>\n      <td>Drug Stores</td>\n    </tr>\n    <tr>\n      <th>15</th>\n      <td>Ahold</td>\n      <td>26903</td>\n      <td>794.0</td>\n      <td>34.446863</td>\n      <td>0.033854</td>\n      <td>Grocery</td>\n    </tr>\n    <tr>\n      <th>16</th>\n      <td>Macy's</td>\n      <td>26028</td>\n      <td>889.0</td>\n      <td>30.442105</td>\n      <td>0.082826</td>\n      <td>Department Stores</td>\n    </tr>\n    <tr>\n      <th>17</th>\n      <td>TJX</td>\n      <td>25012</td>\n      <td>2770.0</td>\n      <td>9.369545</td>\n      <td>0.078241</td>\n      <td>Apparel</td>\n    </tr>\n    <tr>\n      <th>18</th>\n      <td>Aldi</td>\n      <td>24402</td>\n      <td>2021.0</td>\n      <td>12.715998</td>\n      <td>0.112273</td>\n      <td>Grocery</td>\n    </tr>\n    <tr>\n      <th>19</th>\n      <td>Dollar General</td>\n      <td>22234</td>\n      <td>13350.0</td>\n      <td>1.768885</td>\n      <td>0.132412</td>\n      <td>Dollar Stores</td>\n    </tr>\n    <tr>\n      <th>20</th>\n      <td>Dollar Tree</td>\n      <td>21464</td>\n      <td>14250.0</td>\n      <td>1.563919</td>\n      <td>0.079627</td>\n      <td>Dollar Stores</td>\n    </tr>\n    <tr>\n      <th>21</th>\n      <td>HEB</td>\n      <td>21384</td>\n      <td>323.0</td>\n      <td>66.825000</td>\n      <td>0.018927</td>\n      <td>Grocery</td>\n    </tr>\n    <tr>\n      <th>22</th>\n      <td>Kohl's</td>\n      <td>19060</td>\n      <td>1169.0</td>\n      <td>16.353496</td>\n      <td>0.006024</td>\n      <td>Department Stores</td>\n    </tr>\n    <tr>\n      <th>23</th>\n      <td>Delhaize</td>\n      <td>18201</td>\n      <td>1280.0</td>\n      <td>13.783415</td>\n      <td>-0.059515</td>\n      <td>Grocery</td>\n    </tr>\n    <tr>\n      <th>24</th>\n      <td>Meijer</td>\n      <td>16592</td>\n      <td>231.0</td>\n      <td>74.738739</td>\n      <td>0.084507</td>\n      <td>Supercenters</td>\n    </tr>\n  </tbody>\n</table>\n</div>"
     },
     "metadata": {}
    }
   ]
  },
  {
   "cell_type": "markdown",
   "source": "## I. Preguntas del negocio",
   "metadata": {
    "cell_id": "cc141631-e246-41c7-a56b-ad74255d674f",
    "tags": [],
    "is_collapsed": false,
    "deepnote_cell_height": 70,
    "deepnote_app_coordinates": {
     "x": 0,
     "y": 18,
     "w": 12,
     "h": 5
    },
    "deepnote_cell_type": "text-cell-h2"
   }
  },
  {
   "cell_type": "markdown",
   "source": "### 1. ¿Cuál es el promedio de ventas sin contar a la compañía dominante?",
   "metadata": {
    "cell_id": "b919b92e-0df3-4f54-b093-c1db040bc4aa",
    "tags": [],
    "deepnote_cell_height": 94,
    "deepnote_app_coordinates": {
     "x": 0,
     "y": 24,
     "w": 12,
     "h": 5
    },
    "deepnote_cell_type": "markdown"
   }
  },
  {
   "cell_type": "code",
   "metadata": {
    "cell_id": "d0684d2b-d018-42ad-9b48-b545aae09eec",
    "tags": [],
    "deepnote_cell_height": 66,
    "deepnote_to_be_reexecuted": false,
    "source_hash": "ab6fea25",
    "execution_start": 1645680916946,
    "execution_millis": 33,
    "deepnote_app_coordinates": {
     "x": 0,
     "y": 30,
     "w": 12,
     "h": 5
    },
    "deepnote_cell_type": "code"
   },
   "source": "#Ordeno la lista para detectar el que más vendió\ndf_sorted = df.sort_values('Sales',ascending=0)\n\ndf_mean_sales = df_sorted[1:]['Sales'].mean()\n\nprint(FG_BLUE)\nprint('Average sales without Walmart: %i USD'%int(df_mean_sales) )\n",
   "execution_count": 3,
   "outputs": [
    {
     "name": "stdout",
     "text": "\u001b[34m\nAverage sales without Walmart: 46602 USD\n",
     "output_type": "stream"
    }
   ]
  },
  {
   "cell_type": "markdown",
   "source": "### 2. ¿Cuánto dinero en ventas generó la mayoría de las compañías?",
   "metadata": {
    "cell_id": "1814847a-365e-4bae-9fb9-6bed9b874b37",
    "tags": [],
    "deepnote_cell_height": 94,
    "deepnote_app_coordinates": {
     "x": 0,
     "y": 36,
     "w": 12,
     "h": 5
    },
    "deepnote_cell_type": "markdown"
   }
  },
  {
   "cell_type": "code",
   "metadata": {
    "cell_id": "7c7057cc-813b-4f93-8826-caed6cc738f9",
    "tags": [],
    "deepnote_cell_height": 66,
    "deepnote_to_be_reexecuted": false,
    "source_hash": "bc0405e",
    "execution_start": 1645680916979,
    "execution_millis": 235,
    "deepnote_app_coordinates": {
     "x": 0,
     "y": 42,
     "w": 12,
     "h": 5
    },
    "deepnote_cell_type": "code"
   },
   "source": "minval = df_sorted.quantile(0)\nQ1 = df_sorted.quantile(0.25)\nmedian = Q1 = df_sorted.quantile(0.50)\nQ3 = df_sorted.quantile(0.75)\nmaxval = df_sorted.quantile(1)\n\nprint(minval,Q1,median,Q3, maxval)\n",
   "execution_count": 4,
   "outputs": [
    {
     "name": "stdout",
     "text": "Sales                 16592.000000\nStores                  231.000000\nSales/Avg. Store          1.563919\nStore Count Growth       -0.059515\nName: 0, dtype: float64 Sales                 34980.000000\nStores                 1828.000000\nSales/Avg. Store         25.997733\nStore Count Growth        0.019520\nName: 0.5, dtype: float64 Sales                 34980.000000\nStores                 1828.000000\nSales/Avg. Store         25.997733\nStore Count Growth        0.019520\nName: 0.5, dtype: float64 Sales                 71687.000000\nStores                 4242.000000\nSales/Avg. Store         41.358955\nStore Count Growth        0.078934\nName: 0.75, dtype: float64 Sales                 658119.000000\nStores                 14250.000000\nSales/Avg. Store         187.795620\nStore Count Growth         0.255662\nName: 1, dtype: float64\n",
     "output_type": "stream"
    }
   ]
  },
  {
   "cell_type": "code",
   "metadata": {
    "cell_id": "14e4f415-dd9d-437a-bb4f-b7805367a797",
    "tags": [],
    "deepnote_to_be_reexecuted": false,
    "source_hash": "715c97c6",
    "execution_start": 1645680917218,
    "execution_millis": 26,
    "deepnote_app_coordinates": {
     "x": 0,
     "y": 48,
     "w": 12,
     "h": 5
    },
    "deepnote_cell_type": "code"
   },
   "source": "from colors import *\n\nwalmart = df_sorted.iloc[0]['Sales'] #ventas de walmart\nall_no_walmart = df_sorted[1:]['Sales'].sum() #ventas de todas menos walmart\nall_companies = all_no_walmart + walmart #ventas totales\n\nprint(FG_BLUE)\nprint('Walmart sales: %i USD'%int(walmart) )\nprint(FG_RED)\nprint('All companies sales (without Walmart): %i USD'%int(all_no_walmart))\nprint(FG_GREEN)\nprint('All companies sales: %i USD'%int(all_companies))",
   "execution_count": 5,
   "outputs": [
    {
     "name": "stdout",
     "text": "\u001b[34m\nWalmart sales: 658119 USD\n\u001b[31m\nAll companies sales (without Walmart): 1118458 USD\n\u001b[32m\nAll companies sales: 1776577 USD\n",
     "output_type": "stream"
    }
   ]
  },
  {
   "cell_type": "markdown",
   "source": "### All company (no Walmart) sales",
   "metadata": {
    "cell_id": "33adf122-d285-4e35-8375-cf8873b14251",
    "tags": [],
    "is_collapsed": false,
    "deepnote_app_coordinates": {
     "x": 0,
     "y": 54,
     "w": 12,
     "h": 5
    },
    "deepnote_cell_type": "text-cell-h3"
   }
  },
  {
   "cell_type": "code",
   "metadata": {
    "cell_id": "53db27fc-6129-4dd2-be9f-350ed3c46c54",
    "tags": [],
    "deepnote_to_be_reexecuted": false,
    "source_hash": "c03c5476",
    "execution_start": 1645680917249,
    "execution_millis": 676,
    "deepnote_app_coordinates": {
     "x": 0,
     "y": 60,
     "w": 12,
     "h": 5
    },
    "deepnote_cell_type": "code"
   },
   "source": "companies = df_sorted['Company'][1:][::-1]\nsales = df_sorted['Sales'][1:][::-1]\n\nfig = plt.figure(figsize = (10,10))\nax = fig.add_subplot()\nplt.stem(sales, orientation='horizontal',linefmt='k',markerfmt='C1o')\nax.set_yticks([i for i in range(len(companies))])\nax.set_yticklabels(companies)\nplt.ylabel('Companies')\nplt.xlabel('Sales (USD)')\n\nplt.title('Company sales')\nplt.show()",
   "execution_count": 6,
   "outputs": [
    {
     "data": {
      "text/plain": "<Figure size 720x720 with 1 Axes>",
      "image/png": "[encoded data removed]"
     },
     "metadata": {
      "needs_background": "light",
      "image/png": {
       "width": 696,
       "height": 604
      }
     },
     "output_type": "display_data"
    }
   ]
  },
  {
   "cell_type": "code",
   "metadata": {
    "cell_id": "bdbef3e8-309e-4a12-8bac-6a8c057e3683",
    "tags": [],
    "deepnote_to_be_reexecuted": false,
    "source_hash": "b962df89",
    "execution_start": 1645680917931,
    "execution_millis": 2978,
    "deepnote_app_coordinates": {
     "x": 0,
     "y": 66,
     "w": 12,
     "h": 5
    },
    "deepnote_cell_type": "code"
   },
   "source": "#Sin Walmart\nfig = plt.figure(figsize=(10,10))\nplt.grid(axis='both',zorder=0)\nsns.histplot(df_sorted[1:], x = 'Sales', y='Company',hue='Company',zorder=10)\nplt.legend('off')\n\nplt.xlabel('Sales (USD)')",
   "execution_count": 7,
   "outputs": [
    {
     "output_type": "execute_result",
     "execution_count": 7,
     "data": {
      "text/plain": "Text(0.5, 0, 'Sales (USD)')"
     },
     "metadata": {}
    },
    {
     "data": {
      "text/plain": "<Figure size 720x720 with 1 Axes>",
      "image/png": "[encoded data removed]"
     },
     "metadata": {
      "needs_background": "light",
      "image/png": {
       "width": 681,
       "height": 589
      }
     },
     "output_type": "display_data"
    }
   ]
  },
  {
   "cell_type": "markdown",
   "source": "## Walmart sales are equal to top 15 companies",
   "metadata": {
    "cell_id": "3850bd1a-e92f-42a5-849a-dd75c498df3f",
    "tags": [],
    "is_collapsed": false,
    "deepnote_app_coordinates": {
     "x": 0,
     "y": 72,
     "w": 12,
     "h": 5
    },
    "deepnote_cell_type": "text-cell-h2"
   }
  },
  {
   "cell_type": "code",
   "metadata": {
    "cell_id": "f35fe82b-2d5f-4a95-bb24-e5fb6e92bb69",
    "tags": [],
    "deepnote_to_be_reexecuted": false,
    "source_hash": "b1cd04c3",
    "execution_start": 1645680920738,
    "execution_millis": 254,
    "deepnote_app_coordinates": {
     "x": 0,
     "y": 78,
     "w": 12,
     "h": 5
    },
    "deepnote_cell_type": "code"
   },
   "source": "#Comparativo\n\nacum = df_sorted[1:-16]['Sales'].sum() #Suman lo mismo que walmart\nwalmart = df_sorted.iloc[0]['Sales']\nresto = df_sorted[16:]['Sales'].sum()\n\ncomp = [walmart,acum,resto]\n\nplt.bar(['Walmart','Top 15 Companies','Last Companies'],comp,color=['lightskyblue','crimson','yellowgreen'])\n\nplt.ylabel('Sales (USD)')\n\nplt.title('Company sales')\n",
   "execution_count": 8,
   "outputs": [
    {
     "output_type": "execute_result",
     "execution_count": 8,
     "data": {
      "text/plain": "Text(0.5, 1.0, 'Company sales')"
     },
     "metadata": {}
    },
    {
     "data": {
      "text/plain": "<Figure size 432x288 with 1 Axes>",
      "image/png": "[encoded data removed]"
     },
     "metadata": {
      "needs_background": "light",
      "image/png": {
       "width": 407,
       "height": 264
      }
     },
     "output_type": "display_data"
    }
   ]
  },
  {
   "cell_type": "markdown",
   "source": "### 3. ¿Cuántas tiendas tiene la mayoría de las compañías?",
   "metadata": {
    "cell_id": "9801295a-a27d-48af-ae87-c653cabd8f67",
    "tags": [],
    "deepnote_cell_height": 94,
    "deepnote_app_coordinates": {
     "x": 0,
     "y": 84,
     "w": 12,
     "h": 5
    },
    "deepnote_cell_type": "markdown"
   }
  },
  {
   "cell_type": "code",
   "metadata": {
    "cell_id": "cfcc2261-f6a1-44d8-b8fa-184eec2a77ff",
    "tags": [],
    "deepnote_cell_height": 66,
    "deepnote_to_be_reexecuted": false,
    "source_hash": "c7d71ffb",
    "execution_start": 1645680920994,
    "execution_millis": 53,
    "deepnote_app_coordinates": {
     "x": 0,
     "y": 90,
     "w": 12,
     "h": 5
    },
    "deepnote_cell_type": "code"
   },
   "source": "df_sorted",
   "execution_count": 9,
   "outputs": [
    {
     "output_type": "execute_result",
     "execution_count": 9,
     "data": {
      "application/vnd.deepnote.dataframe.v3+json": {
       "column_count": 6,
       "row_count": 25,
       "columns": [
        {
         "name": "Company",
         "dtype": "object",
         "stats": {
          "unique_count": 25,
          "nan_count": 0,
          "categories": [
           {
            "name": "Walmart US",
            "count": 1
           },
           {
            "name": "Kroger",
            "count": 1
           },
           {
            "name": "23 others",
            "count": 23
           }
          ]
         }
        },
        {
         "name": "Sales",
         "dtype": "int64",
         "stats": {
          "unique_count": 25,
          "nan_count": 0,
          "min": "16592",
          "max": "658119",
          "histogram": [
           {
            "bin_start": 16592,
            "bin_end": 80744.7,
            "count": 21
           },
           {
            "bin_start": 80744.7,
            "bin_end": 144897.4,
            "count": 3
           },
           {
            "bin_start": 144897.4,
            "bin_end": 209050.09999999998,
            "count": 0
           },
           {
            "bin_start": 209050.09999999998,
            "bin_end": 273202.8,
            "count": 0
           },
           {
            "bin_start": 273202.8,
            "bin_end": 337355.5,
            "count": 0
           },
           {
            "bin_start": 337355.5,
            "bin_end": 401508.19999999995,
            "count": 0
           },
           {
            "bin_start": 401508.19999999995,
            "bin_end": 465660.89999999997,
            "count": 0
           },
           {
            "bin_start": 465660.89999999997,
            "bin_end": 529813.6,
            "count": 0
           },
           {
            "bin_start": 529813.6,
            "bin_end": 593966.2999999999,
            "count": 0
           },
           {
            "bin_start": 593966.2999999999,
            "bin_end": 658119,
            "count": 1
           }
          ]
         }
        },
        {
         "name": "Stores",
         "dtype": "float64",
         "stats": {
          "unique_count": 23,
          "nan_count": 2,
          "min": "231.0",
          "max": "14250.0",
          "histogram": [
           {
            "bin_start": 231,
            "bin_end": 1632.9,
            "count": 10
           },
           {
            "bin_start": 1632.9,
            "bin_end": 3034.8,
            "count": 6
           },
           {
            "bin_start": 3034.8,
            "bin_end": 4436.700000000001,
            "count": 1
           },
           {
            "bin_start": 4436.700000000001,
            "bin_end": 5838.6,
            "count": 2
           },
           {
            "bin_start": 5838.6,
            "bin_end": 7240.5,
            "count": 0
           },
           {
            "bin_start": 7240.5,
            "bin_end": 8642.400000000001,
            "count": 1
           },
           {
            "bin_start": 8642.400000000001,
            "bin_end": 10044.300000000001,
            "count": 1
           },
           {
            "bin_start": 10044.300000000001,
            "bin_end": 11446.2,
            "count": 0
           },
           {
            "bin_start": 11446.2,
            "bin_end": 12848.1,
            "count": 0
           },
           {
            "bin_start": 12848.1,
            "bin_end": 14250,
            "count": 2
           }
          ]
         }
        },
        {
         "name": "Sales/Avg. Store",
         "dtype": "float64",
         "stats": {
          "unique_count": 23,
          "nan_count": 2,
          "min": "1.56391854",
          "max": "187.7956204",
          "histogram": [
           {
            "bin_start": 1.56391854,
            "bin_end": 20.187088726,
            "count": 9
           },
           {
            "bin_start": 20.187088726,
            "bin_end": 38.810258912,
            "count": 7
           },
           {
            "bin_start": 38.810258912,
            "bin_end": 57.433429098000005,
            "count": 2
           },
           {
            "bin_start": 57.433429098000005,
            "bin_end": 76.056599284,
            "count": 3
           },
           {
            "bin_start": 76.056599284,
            "bin_end": 94.67976947,
            "count": 1
           },
           {
            "bin_start": 94.67976947,
            "bin_end": 113.302939656,
            "count": 0
           },
           {
            "bin_start": 113.302939656,
            "bin_end": 131.926109842,
            "count": 0
           },
           {
            "bin_start": 131.926109842,
            "bin_end": 150.549280028,
            "count": 0
           },
           {
            "bin_start": 150.549280028,
            "bin_end": 169.172450214,
            "count": 0
           },
           {
            "bin_start": 169.172450214,
            "bin_end": 187.7956204,
            "count": 1
           }
          ]
         }
        },
        {
         "name": "Store Count Growth",
         "dtype": "float64",
         "stats": {
          "unique_count": 23,
          "nan_count": 2,
          "min": "-0.05951506245",
          "max": "0.2556621881",
          "histogram": [
           {
            "bin_start": -0.05951506245,
            "bin_end": -0.027997337395000002,
            "count": 3
           },
           {
            "bin_start": -0.027997337395000002,
            "bin_end": 0.003520387659999999,
            "count": 4
           },
           {
            "bin_start": 0.003520387659999999,
            "bin_end": 0.035038112715,
            "count": 6
           },
           {
            "bin_start": 0.035038112715,
            "bin_end": 0.06655583777,
            "count": 2
           },
           {
            "bin_start": 0.06655583777,
            "bin_end": 0.098073562825,
            "count": 5
           },
           {
            "bin_start": 0.098073562825,
            "bin_end": 0.12959128788000002,
            "count": 1
           },
           {
            "bin_start": 0.12959128788000002,
            "bin_end": 0.16110901293500002,
            "count": 1
           },
           {
            "bin_start": 0.16110901293500002,
            "bin_end": 0.19262673799000002,
            "count": 0
           },
           {
            "bin_start": 0.19262673799000002,
            "bin_end": 0.22414446304500002,
            "count": 0
           },
           {
            "bin_start": 0.22414446304500002,
            "bin_end": 0.2556621881,
            "count": 1
           }
          ]
         }
        },
        {
         "name": "Category",
         "dtype": "object",
         "stats": {
          "unique_count": 11,
          "nan_count": 1,
          "categories": [
           {
            "name": "Grocery",
            "count": 7
           },
           {
            "name": "10 others",
            "count": 17
           },
           {
            "name": "Missing",
            "count": 1
           }
          ]
         }
        },
        {
         "name": "_deepnote_index_column",
         "dtype": "int64"
        }
       ],
       "rows": [
        {
         "Company": "Walmart US",
         "Sales": 658119,
         "Stores": 4574,
         "Sales/Avg. Store": 65.64972497,
         "Store Count Growth": 0.01284322409,
         "Category": "Supercenters",
         "_deepnote_index_column": 0
        },
        {
         "Company": "Kroger",
         "Sales": 115037,
         "Stores": 3931,
         "Sales/Avg. Store": 30.03184963,
         "Store Count Growth": 0.05388739946,
         "Category": "Grocery",
         "_deepnote_index_column": 1
        },
        {
         "Company": "Costco",
         "Sales": 90048,
         "Stores": 495,
         "Sales/Avg. Store": 187.7956204,
         "Store Count Growth": 0.06681034483,
         "Category": "Warehouse Club",
         "_deepnote_index_column": 2
        },
        {
         "Company": "Home Depot",
         "Sales": 83976,
         "Stores": 1965,
         "Sales/Avg. Store": 42.73587786,
         "Store Count Growth": 0,
         "Category": "Home Improvement",
         "_deepnote_index_column": 3
        },
        {
         "Company": "Walgreen Boots",
         "Sales": 78924,
         "Stores": 8002,
         "Sales/Avg. Store": 9.81092672,
         "Store Count Growth": -0.01051069618,
         "Category": "Drug Stores",
         "_deepnote_index_column": 4
        },
        {
         "Company": "CVS incl. Target",
         "Sales": 77792,
         "Stores": 9813,
         "Sales/Avg. Store": 8.825958702,
         "Store Count Growth": 0.2556621881,
         "Category": "Drug Stores",
         "_deepnote_index_column": 5
        },
        {
         "Company": "Amazon",
         "Sales": 71687,
         "Stores": "nan",
         "Sales/Avg. Store": "nan",
         "Store Count Growth": "nan",
         "Category": "Electronic/Mail Order",
         "_deepnote_index_column": 6
        },
        {
         "Company": "Target",
         "Sales": 71208,
         "Stores": 1772,
         "Sales/Avg. Store": 39.98203257,
         "Store Count Growth": -0.01005586592,
         "Category": "Supercenters",
         "_deepnote_index_column": 7
        },
        {
         "Company": "Lowe's",
         "Sales": 60311,
         "Stores": 1828,
         "Sales/Avg. Store": 33.31179232,
         "Store Count Growth": 0.01952035694,
         "Category": "Home Improvement",
         "_deepnote_index_column": 8
        },
        {
         "Company": "Albertsons",
         "Sales": 56829,
         "Stores": 2326,
         "Sales/Avg. Store": 23.87773109,
         "Store Count Growth": -0.04437140509,
         "Category": "Grocery",
         "_deepnote_index_column": 9
        }
       ]
      },
      "text/plain": "               Company   Sales   Stores  Sales/Avg. Store  Store Count Growth  \\\n0           Walmart US  658119   4574.0         65.649725            0.012843   \n1               Kroger  115037   3931.0         30.031850            0.053887   \n2               Costco   90048    495.0        187.795620            0.066810   \n3           Home Depot   83976   1965.0         42.735878            0.000000   \n4       Walgreen Boots   78924   8002.0          9.810927           -0.010511   \n5     CVS incl. Target   77792   9813.0          8.825959            0.255662   \n6               Amazon   71687      NaN               NaN                 NaN   \n7               Target   71208   1772.0         39.982033           -0.010056   \n8               Lowe's   60311   1828.0         33.311792            0.019520   \n9           Albertsons   56829   2326.0         23.877731           -0.044371   \n10          Sam's Club   56828    655.0         87.293395            0.012365   \n11  Apple incl. Online   37664      NaN               NaN                 NaN   \n12            Best Buy   34980   1389.0         24.685956           -0.038754   \n13              Publix   34408   1351.0         25.997733            0.042438   \n14            Rite Aid   27486   4553.0          6.025649           -0.003720   \n15               Ahold   26903    794.0         34.446863            0.033854   \n16              Macy's   26028    889.0         30.442105            0.082826   \n17                 TJX   25012   2770.0          9.369545            0.078241   \n18                Aldi   24402   2021.0         12.715998            0.112273   \n19      Dollar General   22234  13350.0          1.768885            0.132412   \n20         Dollar Tree   21464  14250.0          1.563919            0.079627   \n21                 HEB   21384    323.0         66.825000            0.018927   \n22              Kohl's   19060   1169.0         16.353496            0.006024   \n23            Delhaize   18201   1280.0         13.783415           -0.059515   \n24              Meijer   16592    231.0         74.738739            0.084507   \n\n                 Category  \n0            Supercenters  \n1                 Grocery  \n2          Warehouse Club  \n3        Home Improvement  \n4             Drug Stores  \n5             Drug Stores  \n6   Electronic/Mail Order  \n7            Supercenters  \n8        Home Improvement  \n9                 Grocery  \n10        Warehouse Clubs  \n11                    NaN  \n12            Electronics  \n13                Grocery  \n14            Drug Stores  \n15                Grocery  \n16      Department Stores  \n17                Apparel  \n18                Grocery  \n19          Dollar Stores  \n20          Dollar Stores  \n21                Grocery  \n22      Department Stores  \n23                Grocery  \n24           Supercenters  ",
      "text/html": "<div>\n<style scoped>\n    .dataframe tbody tr th:only-of-type {\n        vertical-align: middle;\n    }\n\n    .dataframe tbody tr th {\n        vertical-align: top;\n    }\n\n    .dataframe thead th {\n        text-align: right;\n    }\n</style>\n<table border=\"1\" class=\"dataframe\">\n  <thead>\n    <tr style=\"text-align: right;\">\n      <th></th>\n      <th>Company</th>\n      <th>Sales</th>\n      <th>Stores</th>\n      <th>Sales/Avg. Store</th>\n      <th>Store Count Growth</th>\n      <th>Category</th>\n    </tr>\n  </thead>\n  <tbody>\n    <tr>\n      <th>0</th>\n      <td>Walmart US</td>\n      <td>658119</td>\n      <td>4574.0</td>\n      <td>65.649725</td>\n      <td>0.012843</td>\n      <td>Supercenters</td>\n    </tr>\n    <tr>\n      <th>1</th>\n      <td>Kroger</td>\n      <td>115037</td>\n      <td>3931.0</td>\n      <td>30.031850</td>\n      <td>0.053887</td>\n      <td>Grocery</td>\n    </tr>\n    <tr>\n      <th>2</th>\n      <td>Costco</td>\n      <td>90048</td>\n      <td>495.0</td>\n      <td>187.795620</td>\n      <td>0.066810</td>\n      <td>Warehouse Club</td>\n    </tr>\n    <tr>\n      <th>3</th>\n      <td>Home Depot</td>\n      <td>83976</td>\n      <td>1965.0</td>\n      <td>42.735878</td>\n      <td>0.000000</td>\n      <td>Home Improvement</td>\n    </tr>\n    <tr>\n      <th>4</th>\n      <td>Walgreen Boots</td>\n      <td>78924</td>\n      <td>8002.0</td>\n      <td>9.810927</td>\n      <td>-0.010511</td>\n      <td>Drug Stores</td>\n    </tr>\n    <tr>\n      <th>5</th>\n      <td>CVS incl. Target</td>\n      <td>77792</td>\n      <td>9813.0</td>\n      <td>8.825959</td>\n      <td>0.255662</td>\n      <td>Drug Stores</td>\n    </tr>\n    <tr>\n      <th>6</th>\n      <td>Amazon</td>\n      <td>71687</td>\n      <td>NaN</td>\n      <td>NaN</td>\n      <td>NaN</td>\n      <td>Electronic/Mail Order</td>\n    </tr>\n    <tr>\n      <th>7</th>\n      <td>Target</td>\n      <td>71208</td>\n      <td>1772.0</td>\n      <td>39.982033</td>\n      <td>-0.010056</td>\n      <td>Supercenters</td>\n    </tr>\n    <tr>\n      <th>8</th>\n      <td>Lowe's</td>\n      <td>60311</td>\n      <td>1828.0</td>\n      <td>33.311792</td>\n      <td>0.019520</td>\n      <td>Home Improvement</td>\n    </tr>\n    <tr>\n      <th>9</th>\n      <td>Albertsons</td>\n      <td>56829</td>\n      <td>2326.0</td>\n      <td>23.877731</td>\n      <td>-0.044371</td>\n      <td>Grocery</td>\n    </tr>\n    <tr>\n      <th>10</th>\n      <td>Sam's Club</td>\n      <td>56828</td>\n      <td>655.0</td>\n      <td>87.293395</td>\n      <td>0.012365</td>\n      <td>Warehouse Clubs</td>\n    </tr>\n    <tr>\n      <th>11</th>\n      <td>Apple incl. Online</td>\n      <td>37664</td>\n      <td>NaN</td>\n      <td>NaN</td>\n      <td>NaN</td>\n      <td>NaN</td>\n    </tr>\n    <tr>\n      <th>12</th>\n      <td>Best Buy</td>\n      <td>34980</td>\n      <td>1389.0</td>\n      <td>24.685956</td>\n      <td>-0.038754</td>\n      <td>Electronics</td>\n    </tr>\n    <tr>\n      <th>13</th>\n      <td>Publix</td>\n      <td>34408</td>\n      <td>1351.0</td>\n      <td>25.997733</td>\n      <td>0.042438</td>\n      <td>Grocery</td>\n    </tr>\n    <tr>\n      <th>14</th>\n      <td>Rite Aid</td>\n      <td>27486</td>\n      <td>4553.0</td>\n      <td>6.025649</td>\n      <td>-0.003720</td>\n      <td>Drug Stores</td>\n    </tr>\n    <tr>\n      <th>15</th>\n      <td>Ahold</td>\n      <td>26903</td>\n      <td>794.0</td>\n      <td>34.446863</td>\n      <td>0.033854</td>\n      <td>Grocery</td>\n    </tr>\n    <tr>\n      <th>16</th>\n      <td>Macy's</td>\n      <td>26028</td>\n      <td>889.0</td>\n      <td>30.442105</td>\n      <td>0.082826</td>\n      <td>Department Stores</td>\n    </tr>\n    <tr>\n      <th>17</th>\n      <td>TJX</td>\n      <td>25012</td>\n      <td>2770.0</td>\n      <td>9.369545</td>\n      <td>0.078241</td>\n      <td>Apparel</td>\n    </tr>\n    <tr>\n      <th>18</th>\n      <td>Aldi</td>\n      <td>24402</td>\n      <td>2021.0</td>\n      <td>12.715998</td>\n      <td>0.112273</td>\n      <td>Grocery</td>\n    </tr>\n    <tr>\n      <th>19</th>\n      <td>Dollar General</td>\n      <td>22234</td>\n      <td>13350.0</td>\n      <td>1.768885</td>\n      <td>0.132412</td>\n      <td>Dollar Stores</td>\n    </tr>\n    <tr>\n      <th>20</th>\n      <td>Dollar Tree</td>\n      <td>21464</td>\n      <td>14250.0</td>\n      <td>1.563919</td>\n      <td>0.079627</td>\n      <td>Dollar Stores</td>\n    </tr>\n    <tr>\n      <th>21</th>\n      <td>HEB</td>\n      <td>21384</td>\n      <td>323.0</td>\n      <td>66.825000</td>\n      <td>0.018927</td>\n      <td>Grocery</td>\n    </tr>\n    <tr>\n      <th>22</th>\n      <td>Kohl's</td>\n      <td>19060</td>\n      <td>1169.0</td>\n      <td>16.353496</td>\n      <td>0.006024</td>\n      <td>Department Stores</td>\n    </tr>\n    <tr>\n      <th>23</th>\n      <td>Delhaize</td>\n      <td>18201</td>\n      <td>1280.0</td>\n      <td>13.783415</td>\n      <td>-0.059515</td>\n      <td>Grocery</td>\n    </tr>\n    <tr>\n      <th>24</th>\n      <td>Meijer</td>\n      <td>16592</td>\n      <td>231.0</td>\n      <td>74.738739</td>\n      <td>0.084507</td>\n      <td>Supercenters</td>\n    </tr>\n  </tbody>\n</table>\n</div>"
     },
     "metadata": {}
    }
   ]
  },
  {
   "cell_type": "markdown",
   "source": "## Wallmart is not the one who owns more stores.",
   "metadata": {
    "cell_id": "5ac28b7f-a7fa-4dd6-ab12-b8cb015dad17",
    "tags": [],
    "is_collapsed": false,
    "deepnote_app_coordinates": {
     "x": 0,
     "y": 96,
     "w": 12,
     "h": 5
    },
    "deepnote_cell_type": "text-cell-h2"
   }
  },
  {
   "cell_type": "code",
   "metadata": {
    "cell_id": "85e1ecb5-50d1-4f47-8bc3-b1e5dbb5aac8",
    "tags": [],
    "deepnote_to_be_reexecuted": false,
    "source_hash": "5eeb777e",
    "execution_start": 1645680921052,
    "execution_millis": 909,
    "deepnote_app_coordinates": {
     "x": 0,
     "y": 102,
     "w": 12,
     "h": 5
    },
    "deepnote_cell_type": "code"
   },
   "source": "df_store_sorted = df_sorted.sort_values('Stores')\ndf_store_sorted = df_store_sorted[df_store_sorted['Stores'].notna()]\n\ncompanies =df_store_sorted['Company']\nstores = df_store_sorted['Stores']\n\nfig = plt.figure(figsize = (10,10))\nax = fig.add_subplot()\nplt.stem(stores, orientation='horizontal',linefmt='k',markerfmt='C2o')\nax.set_yticks([i for i in range(len(companies))])\nax.set_yticklabels(companies)\nplt.ylabel('Companies')\nplt.xlabel('Stores')\nplt.grid(axis='y')\n\ny_range = np.arange(1, len(df_store_sorted.index) + 1)\n\nfor (_, row), y in zip(df_store_sorted.iterrows(), y_range):\n    \n    plt.annotate(int(row['Stores']), (row[\"Stores\"]+300, y-1.1))\n\nplt.xlim(-20, max(stores)+ 2000)\n\nplt.title('Company stores')\n\nplt.show()",
   "execution_count": 10,
   "outputs": [
    {
     "data": {
      "text/plain": "<Figure size 720x720 with 1 Axes>",
      "image/png": "[encoded data removed]"
     },
     "metadata": {
      "needs_background": "light",
      "image/png": {
       "width": 678,
       "height": 604
      }
     },
     "output_type": "display_data"
    }
   ]
  },
  {
   "cell_type": "code",
   "metadata": {
    "cell_id": "53acdef3-a924-4018-aacd-09466d542c02",
    "tags": [],
    "deepnote_to_be_reexecuted": false,
    "source_hash": "76c9b064",
    "execution_start": 1645680921963,
    "execution_millis": 5104,
    "deepnote_app_coordinates": {
     "x": 0,
     "y": 108,
     "w": 12,
     "h": 5
    },
    "deepnote_cell_type": "code"
   },
   "source": "# libraries\nimport matplotlib.pyplot as plt\n!pip install squarify\nimport squarify    \nimport pandas as pd\n\n# plot it\nfig = plt.figure(figsize=(20,10))\n\nprint(stores, companies)\n\nsquarify.plot(sizes=stores[::-1], label=companies[::-1], alpha=.8 )\nplt.axis('off')\nplt.show()",
   "execution_count": 11,
   "outputs": [
    {
     "name": "stdout",
     "text": "Requirement already satisfied: squarify in /shared-libs/python3.7/py/lib/python3.7/site-packages (0.4.3)\n\u001b[33mWARNING: You are using pip version 20.1.1; however, version 22.0.3 is available.\nYou should consider upgrading via the '/root/venv/bin/python -m pip install --upgrade pip' command.\u001b[0m\n24      231.0\n21      323.0\n2       495.0\n10      655.0\n15      794.0\n16      889.0\n22     1169.0\n23     1280.0\n13     1351.0\n12     1389.0\n7      1772.0\n8      1828.0\n3      1965.0\n18     2021.0\n9      2326.0\n17     2770.0\n1      3931.0\n14     4553.0\n0      4574.0\n4      8002.0\n5      9813.0\n19    13350.0\n20    14250.0\nName: Stores, dtype: float64 24              Meijer\n21                 HEB\n2               Costco\n10          Sam's Club\n15               Ahold\n16              Macy's\n22              Kohl's\n23            Delhaize\n13              Publix\n12            Best Buy\n7               Target\n8               Lowe's\n3           Home Depot\n18                Aldi\n9           Albertsons\n17                 TJX\n1               Kroger\n14            Rite Aid\n0           Walmart US\n4       Walgreen Boots\n5     CVS incl. Target\n19      Dollar General\n20         Dollar Tree\nName: Company, dtype: object\n",
     "output_type": "stream"
    },
    {
     "data": {
      "text/plain": "<Figure size 1440x720 with 1 Axes>",
      "image/png": "[encoded data removed]"
     },
     "metadata": {
      "needs_background": "light",
      "image/png": {
       "width": 1130,
       "height": 558
      }
     },
     "output_type": "display_data"
    }
   ]
  },
  {
   "cell_type": "markdown",
   "source": "### 4. ¿La cantidad de tiendas está relacionada con la cantidad de ventas? Es decir, ¿si una empresa tiene más tiendas tendrá más dinero de ventas?",
   "metadata": {
    "cell_id": "c9b5de28-cd12-4088-9bc0-93df660401f3",
    "tags": [],
    "deepnote_cell_height": 158,
    "deepnote_app_coordinates": {
     "x": 0,
     "y": 114,
     "w": 12,
     "h": 5
    },
    "deepnote_cell_type": "markdown"
   }
  },
  {
   "cell_type": "markdown",
   "source": "### Sales vs Stores (with Walmart)",
   "metadata": {
    "cell_id": "29f104cb-a9cc-427d-868d-d23b5f477ad4",
    "tags": [],
    "is_collapsed": false,
    "deepnote_app_coordinates": {
     "x": 0,
     "y": 120,
     "w": 12,
     "h": 5
    },
    "deepnote_cell_type": "text-cell-h3"
   }
  },
  {
   "cell_type": "markdown",
   "source": "",
   "metadata": {
    "cell_id": "b28d622b-83df-4795-a0ed-2588d0df3efd",
    "tags": [],
    "is_collapsed": false,
    "deepnote_app_coordinates": {
     "x": 0,
     "y": 126,
     "w": 8,
     "h": 2
    },
    "deepnote_cell_type": "text-cell-p"
   }
  },
  {
   "cell_type": "code",
   "metadata": {
    "cell_id": "3ad0164a-e1ca-48db-86e4-4301fd71b571",
    "tags": [],
    "deepnote_to_be_reexecuted": false,
    "source_hash": "2929e4e3",
    "execution_start": 1645680927066,
    "execution_millis": 1327,
    "deepnote_app_coordinates": {
     "x": 0,
     "y": 129,
     "w": 12,
     "h": 5
    },
    "deepnote_cell_type": "code"
   },
   "source": "#Las compañias que más venden\nfig = plt.figure(figsize=(7,7))\nax = fig.add_subplot()\njp = sns.scatterplot(data=df_sorted,x='Stores',\n                    y ='Sales',hue='Company',s=100)\nplt.tight_layout()\n#plt.legend('off')\n\nplt.legend(loc='upper right', title='Companies',bbox_to_anchor=(1.4, 1))\n\n\n\"\"\"\nWalmart is the top one in sales but doesn't have too much stores as others\n\"\"\"",
   "execution_count": 12,
   "outputs": [
    {
     "output_type": "execute_result",
     "execution_count": 12,
     "data": {
      "text/plain": "\"\\nWalmart is the top one in sales but doesn't have too much stores as others\\n\""
     },
     "metadata": {}
    },
    {
     "data": {
      "text/plain": "<Figure size 504x504 with 1 Axes>",
      "image/png": "[encoded data removed]"
     },
     "metadata": {
      "needs_background": "light",
      "image/png": {
       "width": 661,
       "height": 479
      }
     },
     "output_type": "display_data"
    }
   ]
  },
  {
   "cell_type": "code",
   "metadata": {
    "cell_id": "72dda234-6fca-477e-a088-99682e9766a2",
    "tags": [],
    "deepnote_cell_height": 66,
    "deepnote_to_be_reexecuted": false,
    "source_hash": "1685c707",
    "execution_start": 1645680928395,
    "execution_millis": 624,
    "deepnote_app_coordinates": {
     "x": 0,
     "y": 135,
     "w": 12,
     "h": 5
    },
    "deepnote_cell_type": "code"
   },
   "source": "#Las compañias que más venden\nfig = plt.figure(figsize=(7,7))\nax = fig.add_subplot()\njp = sns.regplot(data=df_sorted[1:],x='Stores',\n                    y ='Sales')\nplt.tight_layout()\n#plt.legend('off')\n\nplt.legend(loc='upper right', title='Companies',bbox_to_anchor=(1.4, 1))\n\n",
   "execution_count": 13,
   "outputs": [
    {
     "name": "stderr",
     "text": "No artists with labels found to put in legend.  Note that artists whose label start with an underscore are ignored when legend() is called with no argument.\n",
     "output_type": "stream"
    },
    {
     "output_type": "execute_result",
     "execution_count": 13,
     "data": {
      "text/plain": "<matplotlib.legend.Legend at 0x7f6d0370cb90>"
     },
     "metadata": {}
    },
    {
     "data": {
      "text/plain": "<Figure size 504x504 with 1 Axes>",
      "image/png": "[encoded data removed]"
     },
     "metadata": {
      "needs_background": "light",
      "image/png": {
       "width": 661,
       "height": 496
      }
     },
     "output_type": "display_data"
    }
   ]
  },
  {
   "cell_type": "markdown",
   "source": "There is no good correlation between sales and stores between all companies",
   "metadata": {
    "cell_id": "dee9c960-647a-46e8-bb68-8a6b4c28db3e",
    "tags": [],
    "is_collapsed": false,
    "deepnote_app_coordinates": {
     "x": 0,
     "y": 141,
     "w": 8,
     "h": 2
    },
    "deepnote_cell_type": "text-cell-p"
   }
  },
  {
   "cell_type": "markdown",
   "source": " ",
   "metadata": {
    "cell_id": "f2ac3cae-5ba5-4bd7-bcdf-1d3679a34119",
    "tags": [],
    "is_collapsed": false,
    "deepnote_app_coordinates": {
     "x": 0,
     "y": 144,
     "w": 8,
     "h": 2
    },
    "deepnote_cell_type": "text-cell-p"
   }
  },
  {
   "cell_type": "code",
   "metadata": {
    "cell_id": "79b71e69-54fd-413d-964d-5a291a7698cb",
    "tags": [],
    "deepnote_to_be_reexecuted": false,
    "source_hash": "71558d7a",
    "execution_start": 1645680929022,
    "execution_millis": 1040,
    "deepnote_app_coordinates": {
     "x": 0,
     "y": 147,
     "w": 12,
     "h": 5
    },
    "deepnote_cell_type": "code"
   },
   "source": "#Las compañias que más venden\n\n\nfig = plt.figure(figsize=(7,7))\nax = fig.add_subplot()\nlegends= []\nfor category in set(df_sorted[1:]['Category']):\n    df_category = df_sorted[1:][df_sorted['Category']==category]\n    \n    if len(df_category)>2:\n        legends.append(category)\n        jp = sns.regplot(data=df_category,x='Stores',\n                        y ='Sales',label=category)\n    \nplt.legend()\nplt.tight_layout()\n    #plt.legend('off')\n\nplt.show()\n",
   "execution_count": 14,
   "outputs": [
    {
     "name": "stderr",
     "text": "/shared-libs/python3.7/py-core/lib/python3.7/site-packages/ipykernel_launcher.py:8: UserWarning: Boolean Series key will be reindexed to match DataFrame index.\n  \n/shared-libs/python3.7/py-core/lib/python3.7/site-packages/ipykernel_launcher.py:8: UserWarning: Boolean Series key will be reindexed to match DataFrame index.\n  \n/shared-libs/python3.7/py-core/lib/python3.7/site-packages/ipykernel_launcher.py:8: UserWarning: Boolean Series key will be reindexed to match DataFrame index.\n  \n",
     "output_type": "stream"
    },
    {
     "data": {
      "text/plain": "<Figure size 504x504 with 1 Axes>",
      "image/png": "[encoded data removed]"
     },
     "metadata": {
      "needs_background": "light",
      "image/png": {
       "width": 496,
       "height": 496
      }
     },
     "output_type": "display_data"
    }
   ]
  },
  {
   "cell_type": "markdown",
   "source": "Exist a correlation between #Stores and Sales for each category",
   "metadata": {
    "cell_id": "638a5516-9074-4699-9689-81d6c1999d6b",
    "tags": [],
    "is_collapsed": false,
    "deepnote_app_coordinates": {
     "x": 0,
     "y": 153,
     "w": 8,
     "h": 2
    },
    "deepnote_cell_type": "text-cell-p"
   }
  },
  {
   "cell_type": "markdown",
   "source": "\n",
   "metadata": {
    "cell_id": "35ffa573-0ade-45ad-a0cb-99a68ea86768",
    "tags": [],
    "is_collapsed": false,
    "deepnote_app_coordinates": {
     "x": 0,
     "y": 156,
     "w": 8,
     "h": 2
    },
    "deepnote_cell_type": "text-cell-p"
   }
  },
  {
   "cell_type": "markdown",
   "source": "",
   "metadata": {
    "cell_id": "2d0a9032-1096-47b6-bb77-545427e44e06",
    "tags": [],
    "is_collapsed": false,
    "deepnote_app_coordinates": {
     "x": 0,
     "y": 159,
     "w": 8,
     "h": 2
    },
    "deepnote_cell_type": "text-cell-p"
   }
  },
  {
   "cell_type": "markdown",
   "source": "### 5. ¿Cuál es el rango que existe entre las ventas?",
   "metadata": {
    "cell_id": "d296130b-b739-4424-8c5d-8dc8b6fc8ee5",
    "tags": [],
    "deepnote_cell_height": 94,
    "deepnote_app_coordinates": {
     "x": 0,
     "y": 162,
     "w": 12,
     "h": 5
    },
    "deepnote_cell_type": "markdown"
   }
  },
  {
   "cell_type": "code",
   "metadata": {
    "cell_id": "277da6f7-0300-4156-91e5-9765eb1f3752",
    "tags": [],
    "deepnote_cell_height": 66,
    "deepnote_to_be_reexecuted": false,
    "source_hash": "82d25f17",
    "execution_start": 1645680930063,
    "execution_millis": 17,
    "deepnote_app_coordinates": {
     "x": 0,
     "y": 168,
     "w": 12,
     "h": 5
    },
    "deepnote_cell_type": "code"
   },
   "source": "\ncompanies = df_sorted['Company']\nsales = df_sorted['Sales']\n\ncategories = set(df_sorted['Category'][df_sorted['Category'].notna()])\n\nrango = sales.iloc[0]-sales.iloc[-1]\n\nprint(FG_BLUE)\nprint('The range for all companies is: %i USD'%int(rango))\n\nrango = sales.iloc[1]-sales.iloc[-1]\n\nprint('The range for all companies (not walmart) is: %i USD'%int(rango))\n\n\nprint('--------------------------------')\nprint('          Range by category      ')\nprint('--------------------------------')\nfor category in categories:\n    df_category = df_sorted[df_sorted['Category']==category]\n    \n    if len(df_category)>1:\n        print(FG_BLUE)\n        rango = df_category['Sales'].iloc[0] - df_category['Sales'].iloc[-1]\n        print('The range for category %s is %i USD'%(category,int(rango)))\n    else:\n        print(FG_RED)\n        print('Category %s has only one company'%category)",
   "execution_count": 15,
   "outputs": [
    {
     "name": "stdout",
     "text": "\u001b[34m\nThe range for all companies is: 641527 USD\nThe range for all companies (not walmart) is: 98445 USD\n--------------------------------\n          Range by category      \n--------------------------------\n\u001b[34m\nThe range for category Supercenters is 641527 USD\n\u001b[31m\nCategory Warehouse Clubs has only one company\n\u001b[31m\nCategory Electronics has only one company\n\u001b[34m\nThe range for category Grocery is 96836 USD\n\u001b[34m\nThe range for category Department Stores is 6968 USD\n\u001b[34m\nThe range for category Dollar Stores is 770 USD\n\u001b[31m\nCategory Warehouse Club has only one company\n\u001b[34m\nThe range for category Drug Stores is 51438 USD\n\u001b[34m\nThe range for category Home Improvement is 23665 USD\n\u001b[31m\nCategory Electronic/Mail Order has only one company\n\u001b[31m\nCategory Apparel has only one company\n",
     "output_type": "stream"
    }
   ]
  },
  {
   "cell_type": "markdown",
   "source": "### 6. ¿Cuáles son las 5 empresas que más tiendas físicas tienen? ¿Cuáles de ellas están dentro de las 5 empresas que más ventas tuvieron?",
   "metadata": {
    "cell_id": "6c36ddc3-51ef-4017-a6f9-06cbb8b970e4",
    "tags": [],
    "deepnote_cell_height": 158,
    "deepnote_app_coordinates": {
     "x": 0,
     "y": 174,
     "w": 12,
     "h": 5
    },
    "deepnote_cell_type": "markdown"
   }
  },
  {
   "cell_type": "code",
   "metadata": {
    "cell_id": "1295319d-09d0-42f0-9de0-ff0e689f400f",
    "tags": [],
    "deepnote_cell_height": 66,
    "deepnote_to_be_reexecuted": false,
    "source_hash": "e9165ef5",
    "execution_start": 1645680930081,
    "execution_millis": 33,
    "deepnote_app_coordinates": {
     "x": 0,
     "y": 180,
     "w": 12,
     "h": 5
    },
    "deepnote_cell_type": "code"
   },
   "source": "df_top_stores = df_sorted.sort_values('Stores')[df_sorted['Stores'].notna()][::-1][:5]\ndf_top_stores",
   "execution_count": 16,
   "outputs": [
    {
     "name": "stderr",
     "text": "/shared-libs/python3.7/py-core/lib/python3.7/site-packages/ipykernel_launcher.py:1: UserWarning: Boolean Series key will be reindexed to match DataFrame index.\n  \"\"\"Entry point for launching an IPython kernel.\n",
     "output_type": "stream"
    },
    {
     "output_type": "execute_result",
     "execution_count": 16,
     "data": {
      "application/vnd.deepnote.dataframe.v3+json": {
       "column_count": 6,
       "row_count": 5,
       "columns": [
        {
         "name": "Company",
         "dtype": "object",
         "stats": {
          "unique_count": 5,
          "nan_count": 0,
          "categories": [
           {
            "name": "Dollar Tree",
            "count": 1
           },
           {
            "name": "Dollar General",
            "count": 1
           },
           {
            "name": "3 others",
            "count": 3
           }
          ]
         }
        },
        {
         "name": "Sales",
         "dtype": "int64",
         "stats": {
          "unique_count": 5,
          "nan_count": 0,
          "min": "21464",
          "max": "658119",
          "histogram": [
           {
            "bin_start": 21464,
            "bin_end": 85129.5,
            "count": 4
           },
           {
            "bin_start": 85129.5,
            "bin_end": 148795,
            "count": 0
           },
           {
            "bin_start": 148795,
            "bin_end": 212460.5,
            "count": 0
           },
           {
            "bin_start": 212460.5,
            "bin_end": 276126,
            "count": 0
           },
           {
            "bin_start": 276126,
            "bin_end": 339791.5,
            "count": 0
           },
           {
            "bin_start": 339791.5,
            "bin_end": 403457,
            "count": 0
           },
           {
            "bin_start": 403457,
            "bin_end": 467122.5,
            "count": 0
           },
           {
            "bin_start": 467122.5,
            "bin_end": 530788,
            "count": 0
           },
           {
            "bin_start": 530788,
            "bin_end": 594453.5,
            "count": 0
           },
           {
            "bin_start": 594453.5,
            "bin_end": 658119,
            "count": 1
           }
          ]
         }
        },
        {
         "name": "Stores",
         "dtype": "float64",
         "stats": {
          "unique_count": 5,
          "nan_count": 0,
          "min": "4574.0",
          "max": "14250.0",
          "histogram": [
           {
            "bin_start": 4574,
            "bin_end": 5541.6,
            "count": 1
           },
           {
            "bin_start": 5541.6,
            "bin_end": 6509.2,
            "count": 0
           },
           {
            "bin_start": 6509.2,
            "bin_end": 7476.8,
            "count": 0
           },
           {
            "bin_start": 7476.8,
            "bin_end": 8444.4,
            "count": 1
           },
           {
            "bin_start": 8444.4,
            "bin_end": 9412,
            "count": 0
           },
           {
            "bin_start": 9412,
            "bin_end": 10379.6,
            "count": 1
           },
           {
            "bin_start": 10379.6,
            "bin_end": 11347.2,
            "count": 0
           },
           {
            "bin_start": 11347.2,
            "bin_end": 12314.8,
            "count": 0
           },
           {
            "bin_start": 12314.8,
            "bin_end": 13282.4,
            "count": 0
           },
           {
            "bin_start": 13282.4,
            "bin_end": 14250,
            "count": 2
           }
          ]
         }
        },
        {
         "name": "Sales/Avg. Store",
         "dtype": "float64",
         "stats": {
          "unique_count": 5,
          "nan_count": 0,
          "min": "1.56391854",
          "max": "65.64972497",
          "histogram": [
           {
            "bin_start": 1.56391854,
            "bin_end": 7.972499182999998,
            "count": 2
           },
           {
            "bin_start": 7.972499182999998,
            "bin_end": 14.381079825999997,
            "count": 2
           },
           {
            "bin_start": 14.381079825999997,
            "bin_end": 20.789660468999994,
            "count": 0
           },
           {
            "bin_start": 20.789660468999994,
            "bin_end": 27.198241111999995,
            "count": 0
           },
           {
            "bin_start": 27.198241111999995,
            "bin_end": 33.606821755,
            "count": 0
           },
           {
            "bin_start": 33.606821755,
            "bin_end": 40.01540239799999,
            "count": 0
           },
           {
            "bin_start": 40.01540239799999,
            "bin_end": 46.42398304099999,
            "count": 0
           },
           {
            "bin_start": 46.42398304099999,
            "bin_end": 52.83256368399999,
            "count": 0
           },
           {
            "bin_start": 52.83256368399999,
            "bin_end": 59.24114432699999,
            "count": 0
           },
           {
            "bin_start": 59.24114432699999,
            "bin_end": 65.64972497,
            "count": 1
           }
          ]
         }
        },
        {
         "name": "Store Count Growth",
         "dtype": "float64",
         "stats": {
          "unique_count": 5,
          "nan_count": 0,
          "min": "-0.01051069618",
          "max": "0.2556621881",
          "histogram": [
           {
            "bin_start": -0.01051069618,
            "bin_end": 0.016106592248000005,
            "count": 2
           },
           {
            "bin_start": 0.016106592248000005,
            "bin_end": 0.042723880676000005,
            "count": 0
           },
           {
            "bin_start": 0.042723880676000005,
            "bin_end": 0.06934116910400001,
            "count": 0
           },
           {
            "bin_start": 0.06934116910400001,
            "bin_end": 0.09595845753200001,
            "count": 1
           },
           {
            "bin_start": 0.09595845753200001,
            "bin_end": 0.12257574596000001,
            "count": 0
           },
           {
            "bin_start": 0.12257574596000001,
            "bin_end": 0.14919303438800002,
            "count": 1
           },
           {
            "bin_start": 0.14919303438800002,
            "bin_end": 0.175810322816,
            "count": 0
           },
           {
            "bin_start": 0.175810322816,
            "bin_end": 0.20242761124400002,
            "count": 0
           },
           {
            "bin_start": 0.20242761124400002,
            "bin_end": 0.22904489967200004,
            "count": 0
           },
           {
            "bin_start": 0.22904489967200004,
            "bin_end": 0.2556621881,
            "count": 1
           }
          ]
         }
        },
        {
         "name": "Category",
         "dtype": "object",
         "stats": {
          "unique_count": 3,
          "nan_count": 0,
          "categories": [
           {
            "name": "Dollar Stores",
            "count": 2
           },
           {
            "name": "Drug Stores",
            "count": 2
           },
           {
            "name": "Supercenters",
            "count": 1
           }
          ]
         }
        },
        {
         "name": "_deepnote_index_column",
         "dtype": "int64"
        }
       ],
       "rows": [
        {
         "Company": "Dollar Tree",
         "Sales": 21464,
         "Stores": 14250,
         "Sales/Avg. Store": 1.56391854,
         "Store Count Growth": 0.07962724449,
         "Category": "Dollar Stores",
         "_deepnote_index_column": 20
        },
        {
         "Company": "Dollar General",
         "Sales": 22234,
         "Stores": 13350,
         "Sales/Avg. Store": 1.768884999,
         "Store Count Growth": 0.1324115701,
         "Category": "Dollar Stores",
         "_deepnote_index_column": 19
        },
        {
         "Company": "CVS incl. Target",
         "Sales": 77792,
         "Stores": 9813,
         "Sales/Avg. Store": 8.825958702,
         "Store Count Growth": 0.2556621881,
         "Category": "Drug Stores",
         "_deepnote_index_column": 5
        },
        {
         "Company": "Walgreen Boots",
         "Sales": 78924,
         "Stores": 8002,
         "Sales/Avg. Store": 9.81092672,
         "Store Count Growth": -0.01051069618,
         "Category": "Drug Stores",
         "_deepnote_index_column": 4
        },
        {
         "Company": "Walmart US",
         "Sales": 658119,
         "Stores": 4574,
         "Sales/Avg. Store": 65.64972497,
         "Store Count Growth": 0.01284322409,
         "Category": "Supercenters",
         "_deepnote_index_column": 0
        }
       ]
      },
      "text/plain": "             Company   Sales   Stores  Sales/Avg. Store  Store Count Growth  \\\n20       Dollar Tree   21464  14250.0          1.563919            0.079627   \n19    Dollar General   22234  13350.0          1.768885            0.132412   \n5   CVS incl. Target   77792   9813.0          8.825959            0.255662   \n4     Walgreen Boots   78924   8002.0          9.810927           -0.010511   \n0         Walmart US  658119   4574.0         65.649725            0.012843   \n\n         Category  \n20  Dollar Stores  \n19  Dollar Stores  \n5     Drug Stores  \n4     Drug Stores  \n0    Supercenters  ",
      "text/html": "<div>\n<style scoped>\n    .dataframe tbody tr th:only-of-type {\n        vertical-align: middle;\n    }\n\n    .dataframe tbody tr th {\n        vertical-align: top;\n    }\n\n    .dataframe thead th {\n        text-align: right;\n    }\n</style>\n<table border=\"1\" class=\"dataframe\">\n  <thead>\n    <tr style=\"text-align: right;\">\n      <th></th>\n      <th>Company</th>\n      <th>Sales</th>\n      <th>Stores</th>\n      <th>Sales/Avg. Store</th>\n      <th>Store Count Growth</th>\n      <th>Category</th>\n    </tr>\n  </thead>\n  <tbody>\n    <tr>\n      <th>20</th>\n      <td>Dollar Tree</td>\n      <td>21464</td>\n      <td>14250.0</td>\n      <td>1.563919</td>\n      <td>0.079627</td>\n      <td>Dollar Stores</td>\n    </tr>\n    <tr>\n      <th>19</th>\n      <td>Dollar General</td>\n      <td>22234</td>\n      <td>13350.0</td>\n      <td>1.768885</td>\n      <td>0.132412</td>\n      <td>Dollar Stores</td>\n    </tr>\n    <tr>\n      <th>5</th>\n      <td>CVS incl. Target</td>\n      <td>77792</td>\n      <td>9813.0</td>\n      <td>8.825959</td>\n      <td>0.255662</td>\n      <td>Drug Stores</td>\n    </tr>\n    <tr>\n      <th>4</th>\n      <td>Walgreen Boots</td>\n      <td>78924</td>\n      <td>8002.0</td>\n      <td>9.810927</td>\n      <td>-0.010511</td>\n      <td>Drug Stores</td>\n    </tr>\n    <tr>\n      <th>0</th>\n      <td>Walmart US</td>\n      <td>658119</td>\n      <td>4574.0</td>\n      <td>65.649725</td>\n      <td>0.012843</td>\n      <td>Supercenters</td>\n    </tr>\n  </tbody>\n</table>\n</div>"
     },
     "metadata": {}
    }
   ]
  },
  {
   "cell_type": "markdown",
   "source": "Top 5 empresas con mayor cantidad de tiendas físicas: \n$Dollar Tree$, $Dollar General$, $CVS incl. Target$, $Walgreen Boots$, $Walmart US$",
   "metadata": {
    "cell_id": "abcc5fdb-dd0e-4a3f-a9e3-94e042436c91",
    "tags": [],
    "deepnote_app_coordinates": {
     "x": 0,
     "y": 186,
     "w": 12,
     "h": 5
    },
    "deepnote_cell_type": "markdown"
   }
  },
  {
   "cell_type": "code",
   "metadata": {
    "cell_id": "337a3743-62fc-42be-aa8a-c06cae9147de",
    "tags": [],
    "deepnote_to_be_reexecuted": false,
    "source_hash": "9b5dddb8",
    "execution_start": 1645680930121,
    "execution_millis": 69,
    "deepnote_app_coordinates": {
     "x": 0,
     "y": 192,
     "w": 12,
     "h": 5
    },
    "deepnote_cell_type": "code"
   },
   "source": "df_top_sales = df_sorted[:5]\n\nint_df = pd.merge(df_top_stores, df_top_sales, how ='inner', on =['Company', 'Sales','Stores'])\n\nint_df",
   "execution_count": 17,
   "outputs": [
    {
     "output_type": "execute_result",
     "execution_count": 17,
     "data": {
      "application/vnd.deepnote.dataframe.v3+json": {
       "column_count": 9,
       "row_count": 2,
       "columns": [
        {
         "name": "Company",
         "dtype": "object",
         "stats": {
          "unique_count": 2,
          "nan_count": 0,
          "categories": [
           {
            "name": "Walgreen Boots",
            "count": 1
           },
           {
            "name": "Walmart US",
            "count": 1
           }
          ]
         }
        },
        {
         "name": "Sales",
         "dtype": "int64",
         "stats": {
          "unique_count": 2,
          "nan_count": 0,
          "min": "78924",
          "max": "658119",
          "histogram": [
           {
            "bin_start": 78924,
            "bin_end": 136843.5,
            "count": 1
           },
           {
            "bin_start": 136843.5,
            "bin_end": 194763,
            "count": 0
           },
           {
            "bin_start": 194763,
            "bin_end": 252682.5,
            "count": 0
           },
           {
            "bin_start": 252682.5,
            "bin_end": 310602,
            "count": 0
           },
           {
            "bin_start": 310602,
            "bin_end": 368521.5,
            "count": 0
           },
           {
            "bin_start": 368521.5,
            "bin_end": 426441,
            "count": 0
           },
           {
            "bin_start": 426441,
            "bin_end": 484360.5,
            "count": 0
           },
           {
            "bin_start": 484360.5,
            "bin_end": 542280,
            "count": 0
           },
           {
            "bin_start": 542280,
            "bin_end": 600199.5,
            "count": 0
           },
           {
            "bin_start": 600199.5,
            "bin_end": 658119,
            "count": 1
           }
          ]
         }
        },
        {
         "name": "Stores",
         "dtype": "float64",
         "stats": {
          "unique_count": 2,
          "nan_count": 0,
          "min": "4574.0",
          "max": "8002.0",
          "histogram": [
           {
            "bin_start": 4574,
            "bin_end": 4916.8,
            "count": 1
           },
           {
            "bin_start": 4916.8,
            "bin_end": 5259.6,
            "count": 0
           },
           {
            "bin_start": 5259.6,
            "bin_end": 5602.4,
            "count": 0
           },
           {
            "bin_start": 5602.4,
            "bin_end": 5945.2,
            "count": 0
           },
           {
            "bin_start": 5945.2,
            "bin_end": 6288,
            "count": 0
           },
           {
            "bin_start": 6288,
            "bin_end": 6630.8,
            "count": 0
           },
           {
            "bin_start": 6630.8,
            "bin_end": 6973.6,
            "count": 0
           },
           {
            "bin_start": 6973.6,
            "bin_end": 7316.4,
            "count": 0
           },
           {
            "bin_start": 7316.4,
            "bin_end": 7659.200000000001,
            "count": 0
           },
           {
            "bin_start": 7659.200000000001,
            "bin_end": 8002,
            "count": 1
           }
          ]
         }
        },
        {
         "name": "Sales/Avg. Store_x",
         "dtype": "float64",
         "stats": {
          "unique_count": 2,
          "nan_count": 0,
          "min": "9.81092672",
          "max": "65.64972497",
          "histogram": [
           {
            "bin_start": 9.81092672,
            "bin_end": 15.394806544999998,
            "count": 1
           },
           {
            "bin_start": 15.394806544999998,
            "bin_end": 20.97868637,
            "count": 0
           },
           {
            "bin_start": 20.97868637,
            "bin_end": 26.562566194999995,
            "count": 0
           },
           {
            "bin_start": 26.562566194999995,
            "bin_end": 32.14644602,
            "count": 0
           },
           {
            "bin_start": 32.14644602,
            "bin_end": 37.730325844999996,
            "count": 0
           },
           {
            "bin_start": 37.730325844999996,
            "bin_end": 43.31420566999999,
            "count": 0
           },
           {
            "bin_start": 43.31420566999999,
            "bin_end": 48.898085495,
            "count": 0
           },
           {
            "bin_start": 48.898085495,
            "bin_end": 54.48196531999999,
            "count": 0
           },
           {
            "bin_start": 54.48196531999999,
            "bin_end": 60.06584514499999,
            "count": 0
           },
           {
            "bin_start": 60.06584514499999,
            "bin_end": 65.64972497,
            "count": 1
           }
          ]
         }
        },
        {
         "name": "Store Count Growth_x",
         "dtype": "float64",
         "stats": {
          "unique_count": 2,
          "nan_count": 0,
          "min": "-0.01051069618",
          "max": "0.01284322409",
          "histogram": [
           {
            "bin_start": -0.01051069618,
            "bin_end": -0.008175304153,
            "count": 1
           },
           {
            "bin_start": -0.008175304153,
            "bin_end": -0.005839912125999999,
            "count": 0
           },
           {
            "bin_start": -0.005839912125999999,
            "bin_end": -0.003504520098999998,
            "count": 0
           },
           {
            "bin_start": -0.003504520098999998,
            "bin_end": -0.0011691280719999982,
            "count": 0
           },
           {
            "bin_start": -0.0011691280719999982,
            "bin_end": 0.0011662639550000017,
            "count": 0
           },
           {
            "bin_start": 0.0011662639550000017,
            "bin_end": 0.0035016559820000032,
            "count": 0
           },
           {
            "bin_start": 0.0035016559820000032,
            "bin_end": 0.005837048009000001,
            "count": 0
           },
           {
            "bin_start": 0.005837048009000001,
            "bin_end": 0.008172440036000003,
            "count": 0
           },
           {
            "bin_start": 0.008172440036000003,
            "bin_end": 0.010507832063000004,
            "count": 0
           },
           {
            "bin_start": 0.010507832063000004,
            "bin_end": 0.01284322409,
            "count": 1
           }
          ]
         }
        },
        {
         "name": "Category_x",
         "dtype": "object",
         "stats": {
          "unique_count": 2,
          "nan_count": 0,
          "categories": [
           {
            "name": "Drug Stores",
            "count": 1
           },
           {
            "name": "Supercenters",
            "count": 1
           }
          ]
         }
        },
        {
         "name": "Sales/Avg. Store_y",
         "dtype": "float64",
         "stats": {
          "unique_count": 2,
          "nan_count": 0,
          "min": "9.81092672",
          "max": "65.64972497",
          "histogram": [
           {
            "bin_start": 9.81092672,
            "bin_end": 15.394806544999998,
            "count": 1
           },
           {
            "bin_start": 15.394806544999998,
            "bin_end": 20.97868637,
            "count": 0
           },
           {
            "bin_start": 20.97868637,
            "bin_end": 26.562566194999995,
            "count": 0
           },
           {
            "bin_start": 26.562566194999995,
            "bin_end": 32.14644602,
            "count": 0
           },
           {
            "bin_start": 32.14644602,
            "bin_end": 37.730325844999996,
            "count": 0
           },
           {
            "bin_start": 37.730325844999996,
            "bin_end": 43.31420566999999,
            "count": 0
           },
           {
            "bin_start": 43.31420566999999,
            "bin_end": 48.898085495,
            "count": 0
           },
           {
            "bin_start": 48.898085495,
            "bin_end": 54.48196531999999,
            "count": 0
           },
           {
            "bin_start": 54.48196531999999,
            "bin_end": 60.06584514499999,
            "count": 0
           },
           {
            "bin_start": 60.06584514499999,
            "bin_end": 65.64972497,
            "count": 1
           }
          ]
         }
        },
        {
         "name": "Store Count Growth_y",
         "dtype": "float64",
         "stats": {
          "unique_count": 2,
          "nan_count": 0,
          "min": "-0.01051069618",
          "max": "0.01284322409",
          "histogram": [
           {
            "bin_start": -0.01051069618,
            "bin_end": -0.008175304153,
            "count": 1
           },
           {
            "bin_start": -0.008175304153,
            "bin_end": -0.005839912125999999,
            "count": 0
           },
           {
            "bin_start": -0.005839912125999999,
            "bin_end": -0.003504520098999998,
            "count": 0
           },
           {
            "bin_start": -0.003504520098999998,
            "bin_end": -0.0011691280719999982,
            "count": 0
           },
           {
            "bin_start": -0.0011691280719999982,
            "bin_end": 0.0011662639550000017,
            "count": 0
           },
           {
            "bin_start": 0.0011662639550000017,
            "bin_end": 0.0035016559820000032,
            "count": 0
           },
           {
            "bin_start": 0.0035016559820000032,
            "bin_end": 0.005837048009000001,
            "count": 0
           },
           {
            "bin_start": 0.005837048009000001,
            "bin_end": 0.008172440036000003,
            "count": 0
           },
           {
            "bin_start": 0.008172440036000003,
            "bin_end": 0.010507832063000004,
            "count": 0
           },
           {
            "bin_start": 0.010507832063000004,
            "bin_end": 0.01284322409,
            "count": 1
           }
          ]
         }
        },
        {
         "name": "Category_y",
         "dtype": "object",
         "stats": {
          "unique_count": 2,
          "nan_count": 0,
          "categories": [
           {
            "name": "Drug Stores",
            "count": 1
           },
           {
            "name": "Supercenters",
            "count": 1
           }
          ]
         }
        },
        {
         "name": "_deepnote_index_column",
         "dtype": "int64"
        }
       ],
       "rows": [
        {
         "Company": "Walgreen Boots",
         "Sales": 78924,
         "Stores": 8002,
         "Sales/Avg. Store_x": 9.81092672,
         "Store Count Growth_x": -0.01051069618,
         "Category_x": "Drug Stores",
         "Sales/Avg. Store_y": 9.81092672,
         "Store Count Growth_y": -0.01051069618,
         "Category_y": "Drug Stores",
         "_deepnote_index_column": 0
        },
        {
         "Company": "Walmart US",
         "Sales": 658119,
         "Stores": 4574,
         "Sales/Avg. Store_x": 65.64972497,
         "Store Count Growth_x": 0.01284322409,
         "Category_x": "Supercenters",
         "Sales/Avg. Store_y": 65.64972497,
         "Store Count Growth_y": 0.01284322409,
         "Category_y": "Supercenters",
         "_deepnote_index_column": 1
        }
       ]
      },
      "text/plain": "          Company   Sales  Stores  Sales/Avg. Store_x  Store Count Growth_x  \\\n0  Walgreen Boots   78924  8002.0            9.810927             -0.010511   \n1      Walmart US  658119  4574.0           65.649725              0.012843   \n\n     Category_x  Sales/Avg. Store_y  Store Count Growth_y    Category_y  \n0   Drug Stores            9.810927             -0.010511   Drug Stores  \n1  Supercenters           65.649725              0.012843  Supercenters  ",
      "text/html": "<div>\n<style scoped>\n    .dataframe tbody tr th:only-of-type {\n        vertical-align: middle;\n    }\n\n    .dataframe tbody tr th {\n        vertical-align: top;\n    }\n\n    .dataframe thead th {\n        text-align: right;\n    }\n</style>\n<table border=\"1\" class=\"dataframe\">\n  <thead>\n    <tr style=\"text-align: right;\">\n      <th></th>\n      <th>Company</th>\n      <th>Sales</th>\n      <th>Stores</th>\n      <th>Sales/Avg. Store_x</th>\n      <th>Store Count Growth_x</th>\n      <th>Category_x</th>\n      <th>Sales/Avg. Store_y</th>\n      <th>Store Count Growth_y</th>\n      <th>Category_y</th>\n    </tr>\n  </thead>\n  <tbody>\n    <tr>\n      <th>0</th>\n      <td>Walgreen Boots</td>\n      <td>78924</td>\n      <td>8002.0</td>\n      <td>9.810927</td>\n      <td>-0.010511</td>\n      <td>Drug Stores</td>\n      <td>9.810927</td>\n      <td>-0.010511</td>\n      <td>Drug Stores</td>\n    </tr>\n    <tr>\n      <th>1</th>\n      <td>Walmart US</td>\n      <td>658119</td>\n      <td>4574.0</td>\n      <td>65.649725</td>\n      <td>0.012843</td>\n      <td>Supercenters</td>\n      <td>65.649725</td>\n      <td>0.012843</td>\n      <td>Supercenters</td>\n    </tr>\n  </tbody>\n</table>\n</div>"
     },
     "metadata": {}
    }
   ]
  },
  {
   "cell_type": "markdown",
   "source": "Walgreen Boots y Walmart son las únicas dos empresas que estan en el top de ventas y de tiendas físicas. De Walmart es esperable ya que rompe todos los esquemas empresariales",
   "metadata": {
    "cell_id": "b1a53385-137a-4380-ae66-1895f2319f2f",
    "tags": [],
    "deepnote_app_coordinates": {
     "x": 0,
     "y": 198,
     "w": 12,
     "h": 5
    },
    "deepnote_cell_type": "markdown"
   }
  },
  {
   "cell_type": "markdown",
   "source": "## II. Preguntas opcionales",
   "metadata": {
    "cell_id": "7d1d5db9-ad1d-4081-968b-bea1357e236a",
    "tags": [],
    "deepnote_cell_height": 70,
    "deepnote_app_coordinates": {
     "x": 0,
     "y": 204,
     "w": 12,
     "h": 5
    },
    "deepnote_cell_type": "markdown"
   }
  },
  {
   "cell_type": "markdown",
   "source": "### 7. ¿Qué categoría de compañía generó más ventas?",
   "metadata": {
    "cell_id": "27e5ddcb-8674-4809-844e-8c3442430be1",
    "tags": [],
    "deepnote_cell_height": 94,
    "deepnote_app_coordinates": {
     "x": 0,
     "y": 210,
     "w": 12,
     "h": 5
    },
    "deepnote_cell_type": "markdown"
   }
  },
  {
   "cell_type": "code",
   "metadata": {
    "cell_id": "fcc0ff72-f954-4023-b187-f43c7ecc77ce",
    "tags": [],
    "deepnote_cell_height": 66,
    "deepnote_to_be_reexecuted": false,
    "source_hash": "2bb4f61a",
    "execution_start": 1645680930194,
    "execution_millis": 25,
    "deepnote_app_coordinates": {
     "x": 0,
     "y": 216,
     "w": 12,
     "h": 5
    },
    "deepnote_cell_type": "code"
   },
   "source": "df_sorted.groupby('Category').sum().sort_values('Sales',ascending=False).index[0]",
   "execution_count": 18,
   "outputs": [
    {
     "output_type": "execute_result",
     "execution_count": 18,
     "data": {
      "text/plain": "'Supercenters'"
     },
     "metadata": {}
    }
   ]
  },
  {
   "cell_type": "markdown",
   "source": "### 8. ¿Cuál es la compañía que en relación con su cantidad de tiendas físicas genera más ventas?",
   "metadata": {
    "cell_id": "33668883-9f01-485c-bdf9-822cd13ad952",
    "tags": [],
    "deepnote_cell_height": 126,
    "deepnote_app_coordinates": {
     "x": 0,
     "y": 222,
     "w": 12,
     "h": 5
    },
    "deepnote_cell_type": "markdown"
   }
  },
  {
   "cell_type": "code",
   "metadata": {
    "cell_id": "903008ff-c22d-431e-8130-a954a94b16e8",
    "tags": [],
    "deepnote_cell_height": 66,
    "deepnote_to_be_reexecuted": false,
    "source_hash": "f65dfd9e",
    "execution_start": 1645681391484,
    "execution_millis": 68,
    "deepnote_table_state": {
     "pageSize": 10,
     "pageIndex": 0,
     "filters": [],
     "sortBy": []
    },
    "deepnote_table_loading": false,
    "deepnote_app_coordinates": {
     "x": 0,
     "y": 228,
     "w": 12,
     "h": 5
    },
    "deepnote_cell_type": "code"
   },
   "source": "df_sales = df_sorted['Sales'][:]\ndf_stores = df_sorted['Stores'][:]\n\ndf_sales_by_store = df_sales / df_stores\n\ndf_sorted['Sales by store'] = df_sales_by_store\n\ndf_sorted.sort_values('Sales by store', ascending = False)",
   "execution_count": 26,
   "outputs": [
    {
     "output_type": "execute_result",
     "execution_count": 27,
     "data": {
      "application/vnd.deepnote.dataframe.v3+json": {
       "column_count": 8,
       "row_count": 25,
       "columns": [
        {
         "name": "Company",
         "dtype": "object",
         "stats": {
          "unique_count": 25,
          "nan_count": 0,
          "categories": [
           {
            "name": "Costco",
            "count": 1
           },
           {
            "name": "Walmart US",
            "count": 1
           },
           {
            "name": "23 others",
            "count": 23
           }
          ]
         }
        },
        {
         "name": "Sales",
         "dtype": "int64",
         "stats": {
          "unique_count": 25,
          "nan_count": 0,
          "min": "16592",
          "max": "658119",
          "histogram": [
           {
            "bin_start": 16592,
            "bin_end": 80744.7,
            "count": 21
           },
           {
            "bin_start": 80744.7,
            "bin_end": 144897.4,
            "count": 3
           },
           {
            "bin_start": 144897.4,
            "bin_end": 209050.09999999998,
            "count": 0
           },
           {
            "bin_start": 209050.09999999998,
            "bin_end": 273202.8,
            "count": 0
           },
           {
            "bin_start": 273202.8,
            "bin_end": 337355.5,
            "count": 0
           },
           {
            "bin_start": 337355.5,
            "bin_end": 401508.19999999995,
            "count": 0
           },
           {
            "bin_start": 401508.19999999995,
            "bin_end": 465660.89999999997,
            "count": 0
           },
           {
            "bin_start": 465660.89999999997,
            "bin_end": 529813.6,
            "count": 0
           },
           {
            "bin_start": 529813.6,
            "bin_end": 593966.2999999999,
            "count": 0
           },
           {
            "bin_start": 593966.2999999999,
            "bin_end": 658119,
            "count": 1
           }
          ]
         }
        },
        {
         "name": "Stores",
         "dtype": "float64",
         "stats": {
          "unique_count": 23,
          "nan_count": 2,
          "min": "231.0",
          "max": "14250.0",
          "histogram": [
           {
            "bin_start": 231,
            "bin_end": 1632.9,
            "count": 10
           },
           {
            "bin_start": 1632.9,
            "bin_end": 3034.8,
            "count": 6
           },
           {
            "bin_start": 3034.8,
            "bin_end": 4436.700000000001,
            "count": 1
           },
           {
            "bin_start": 4436.700000000001,
            "bin_end": 5838.6,
            "count": 2
           },
           {
            "bin_start": 5838.6,
            "bin_end": 7240.5,
            "count": 0
           },
           {
            "bin_start": 7240.5,
            "bin_end": 8642.400000000001,
            "count": 1
           },
           {
            "bin_start": 8642.400000000001,
            "bin_end": 10044.300000000001,
            "count": 1
           },
           {
            "bin_start": 10044.300000000001,
            "bin_end": 11446.2,
            "count": 0
           },
           {
            "bin_start": 11446.2,
            "bin_end": 12848.1,
            "count": 0
           },
           {
            "bin_start": 12848.1,
            "bin_end": 14250,
            "count": 2
           }
          ]
         }
        },
        {
         "name": "Sales/Avg. Store",
         "dtype": "float64",
         "stats": {
          "unique_count": 23,
          "nan_count": 2,
          "min": "1.56391854",
          "max": "187.7956204",
          "histogram": [
           {
            "bin_start": 1.56391854,
            "bin_end": 20.187088726,
            "count": 9
           },
           {
            "bin_start": 20.187088726,
            "bin_end": 38.810258912,
            "count": 7
           },
           {
            "bin_start": 38.810258912,
            "bin_end": 57.433429098000005,
            "count": 2
           },
           {
            "bin_start": 57.433429098000005,
            "bin_end": 76.056599284,
            "count": 3
           },
           {
            "bin_start": 76.056599284,
            "bin_end": 94.67976947,
            "count": 1
           },
           {
            "bin_start": 94.67976947,
            "bin_end": 113.302939656,
            "count": 0
           },
           {
            "bin_start": 113.302939656,
            "bin_end": 131.926109842,
            "count": 0
           },
           {
            "bin_start": 131.926109842,
            "bin_end": 150.549280028,
            "count": 0
           },
           {
            "bin_start": 150.549280028,
            "bin_end": 169.172450214,
            "count": 0
           },
           {
            "bin_start": 169.172450214,
            "bin_end": 187.7956204,
            "count": 1
           }
          ]
         }
        },
        {
         "name": "Store Count Growth",
         "dtype": "float64",
         "stats": {
          "unique_count": 23,
          "nan_count": 2,
          "min": "-0.05951506245",
          "max": "0.2556621881",
          "histogram": [
           {
            "bin_start": -0.05951506245,
            "bin_end": -0.027997337395000002,
            "count": 3
           },
           {
            "bin_start": -0.027997337395000002,
            "bin_end": 0.003520387659999999,
            "count": 4
           },
           {
            "bin_start": 0.003520387659999999,
            "bin_end": 0.035038112715,
            "count": 6
           },
           {
            "bin_start": 0.035038112715,
            "bin_end": 0.06655583777,
            "count": 2
           },
           {
            "bin_start": 0.06655583777,
            "bin_end": 0.098073562825,
            "count": 5
           },
           {
            "bin_start": 0.098073562825,
            "bin_end": 0.12959128788000002,
            "count": 1
           },
           {
            "bin_start": 0.12959128788000002,
            "bin_end": 0.16110901293500002,
            "count": 1
           },
           {
            "bin_start": 0.16110901293500002,
            "bin_end": 0.19262673799000002,
            "count": 0
           },
           {
            "bin_start": 0.19262673799000002,
            "bin_end": 0.22414446304500002,
            "count": 0
           },
           {
            "bin_start": 0.22414446304500002,
            "bin_end": 0.2556621881,
            "count": 1
           }
          ]
         }
        },
        {
         "name": "Category",
         "dtype": "object",
         "stats": {
          "unique_count": 11,
          "nan_count": 1,
          "categories": [
           {
            "name": "Grocery",
            "count": 7
           },
           {
            "name": "10 others",
            "count": 17
           },
           {
            "name": "Missing",
            "count": 1
           }
          ]
         }
        },
        {
         "name": "sales_by_store",
         "dtype": "float64",
         "stats": {
          "unique_count": 23,
          "nan_count": 2,
          "min": "1.5062456140350877",
          "max": "181.9151515151515",
          "histogram": [
           {
            "bin_start": 1.5062456140350877,
            "bin_end": 19.547136204146728,
            "count": 9
           },
           {
            "bin_start": 19.547136204146728,
            "bin_end": 37.58802679425837,
            "count": 7
           },
           {
            "bin_start": 37.58802679425837,
            "bin_end": 55.628917384370006,
            "count": 2
           },
           {
            "bin_start": 55.628917384370006,
            "bin_end": 73.66980797448166,
            "count": 2
           },
           {
            "bin_start": 73.66980797448166,
            "bin_end": 91.7106985645933,
            "count": 1
           },
           {
            "bin_start": 91.7106985645933,
            "bin_end": 109.75158915470493,
            "count": 0
           },
           {
            "bin_start": 109.75158915470493,
            "bin_end": 127.79247974481657,
            "count": 0
           },
           {
            "bin_start": 127.79247974481657,
            "bin_end": 145.83337033492822,
            "count": 1
           },
           {
            "bin_start": 145.83337033492822,
            "bin_end": 163.87426092503986,
            "count": 0
           },
           {
            "bin_start": 163.87426092503986,
            "bin_end": 181.9151515151515,
            "count": 1
           }
          ]
         }
        },
        {
         "name": "Sales by store",
         "dtype": "float64",
         "stats": {
          "unique_count": 23,
          "nan_count": 2,
          "min": "1.5062456140350877",
          "max": "181.9151515151515",
          "histogram": [
           {
            "bin_start": 1.5062456140350877,
            "bin_end": 19.547136204146728,
            "count": 9
           },
           {
            "bin_start": 19.547136204146728,
            "bin_end": 37.58802679425837,
            "count": 7
           },
           {
            "bin_start": 37.58802679425837,
            "bin_end": 55.628917384370006,
            "count": 2
           },
           {
            "bin_start": 55.628917384370006,
            "bin_end": 73.66980797448166,
            "count": 2
           },
           {
            "bin_start": 73.66980797448166,
            "bin_end": 91.7106985645933,
            "count": 1
           },
           {
            "bin_start": 91.7106985645933,
            "bin_end": 109.75158915470493,
            "count": 0
           },
           {
            "bin_start": 109.75158915470493,
            "bin_end": 127.79247974481657,
            "count": 0
           },
           {
            "bin_start": 127.79247974481657,
            "bin_end": 145.83337033492822,
            "count": 1
           },
           {
            "bin_start": 145.83337033492822,
            "bin_end": 163.87426092503986,
            "count": 0
           },
           {
            "bin_start": 163.87426092503986,
            "bin_end": 181.9151515151515,
            "count": 1
           }
          ]
         }
        },
        {
         "name": "_deepnote_index_column",
         "dtype": "int64"
        }
       ],
       "rows": [
        {
         "Company": "Costco",
         "Sales": 90048,
         "Stores": 495,
         "Sales/Avg. Store": 187.7956204,
         "Store Count Growth": 0.06681034483,
         "Category": "Warehouse Club",
         "sales_by_store": 181.9151515151515,
         "Sales by store": 181.9151515151515,
         "_deepnote_index_column": 2
        },
        {
         "Company": "Walmart US",
         "Sales": 658119,
         "Stores": 4574,
         "Sales/Avg. Store": 65.64972497,
         "Store Count Growth": 0.01284322409,
         "Category": "Supercenters",
         "sales_by_store": 143.88259728902491,
         "Sales by store": 143.88259728902491,
         "_deepnote_index_column": 0
        },
        {
         "Company": "Sam's Club",
         "Sales": 56828,
         "Stores": 655,
         "Sales/Avg. Store": 87.29339478,
         "Store Count Growth": 0.01236476043,
         "Category": "Warehouse Clubs",
         "sales_by_store": 86.76030534351145,
         "Sales by store": 86.76030534351145,
         "_deepnote_index_column": 10
        },
        {
         "Company": "Meijer",
         "Sales": 16592,
         "Stores": 231,
         "Sales/Avg. Store": 74.73873874,
         "Store Count Growth": 0.08450704225,
         "Category": "Supercenters",
         "sales_by_store": 71.82683982683983,
         "Sales by store": 71.82683982683983,
         "_deepnote_index_column": 24
        },
        {
         "Company": "HEB",
         "Sales": 21384,
         "Stores": 323,
         "Sales/Avg. Store": 66.825,
         "Store Count Growth": 0.01892744479,
         "Category": "Grocery",
         "sales_by_store": 66.20433436532508,
         "Sales by store": 66.20433436532508,
         "_deepnote_index_column": 21
        },
        {
         "Company": "Home Depot",
         "Sales": 83976,
         "Stores": 1965,
         "Sales/Avg. Store": 42.73587786,
         "Store Count Growth": 0,
         "Category": "Home Improvement",
         "sales_by_store": 42.73587786259542,
         "Sales by store": 42.73587786259542,
         "_deepnote_index_column": 3
        },
        {
         "Company": "Target",
         "Sales": 71208,
         "Stores": 1772,
         "Sales/Avg. Store": 39.98203257,
         "Store Count Growth": -0.01005586592,
         "Category": "Supercenters",
         "sales_by_store": 40.18510158013544,
         "Sales by store": 40.18510158013544,
         "_deepnote_index_column": 7
        },
        {
         "Company": "Ahold",
         "Sales": 26903,
         "Stores": 794,
         "Sales/Avg. Store": 34.446863,
         "Store Count Growth": 0.03385416667,
         "Category": "Grocery",
         "sales_by_store": 33.88287153652393,
         "Sales by store": 33.88287153652393,
         "_deepnote_index_column": 15
        },
        {
         "Company": "Lowe's",
         "Sales": 60311,
         "Stores": 1828,
         "Sales/Avg. Store": 33.31179232,
         "Store Count Growth": 0.01952035694,
         "Category": "Home Improvement",
         "sales_by_store": 32.99288840262582,
         "Sales by store": 32.99288840262582,
         "_deepnote_index_column": 8
        },
        {
         "Company": "Macy's",
         "Sales": 26028,
         "Stores": 889,
         "Sales/Avg. Store": 30.44210526,
         "Store Count Growth": 0.08282582217,
         "Category": "Department Stores",
         "sales_by_store": 29.277840269966255,
         "Sales by store": 29.277840269966255,
         "_deepnote_index_column": 16
        }
       ]
      },
      "text/plain": "               Company   Sales   Stores  Sales/Avg. Store  Store Count Growth  \\\n2               Costco   90048    495.0        187.795620            0.066810   \n0           Walmart US  658119   4574.0         65.649725            0.012843   \n10          Sam's Club   56828    655.0         87.293395            0.012365   \n24              Meijer   16592    231.0         74.738739            0.084507   \n21                 HEB   21384    323.0         66.825000            0.018927   \n3           Home Depot   83976   1965.0         42.735878            0.000000   \n7               Target   71208   1772.0         39.982033           -0.010056   \n15               Ahold   26903    794.0         34.446863            0.033854   \n8               Lowe's   60311   1828.0         33.311792            0.019520   \n16              Macy's   26028    889.0         30.442105            0.082826   \n1               Kroger  115037   3931.0         30.031850            0.053887   \n13              Publix   34408   1351.0         25.997733            0.042438   \n12            Best Buy   34980   1389.0         24.685956           -0.038754   \n9           Albertsons   56829   2326.0         23.877731           -0.044371   \n22              Kohl's   19060   1169.0         16.353496            0.006024   \n23            Delhaize   18201   1280.0         13.783415           -0.059515   \n18                Aldi   24402   2021.0         12.715998            0.112273   \n4       Walgreen Boots   78924   8002.0          9.810927           -0.010511   \n17                 TJX   25012   2770.0          9.369545            0.078241   \n5     CVS incl. Target   77792   9813.0          8.825959            0.255662   \n14            Rite Aid   27486   4553.0          6.025649           -0.003720   \n19      Dollar General   22234  13350.0          1.768885            0.132412   \n20         Dollar Tree   21464  14250.0          1.563919            0.079627   \n6               Amazon   71687      NaN               NaN                 NaN   \n11  Apple incl. Online   37664      NaN               NaN                 NaN   \n\n                 Category  sales_by_store  Sales by store  \n2          Warehouse Club      181.915152      181.915152  \n0            Supercenters      143.882597      143.882597  \n10        Warehouse Clubs       86.760305       86.760305  \n24           Supercenters       71.826840       71.826840  \n21                Grocery       66.204334       66.204334  \n3        Home Improvement       42.735878       42.735878  \n7            Supercenters       40.185102       40.185102  \n15                Grocery       33.882872       33.882872  \n8        Home Improvement       32.992888       32.992888  \n16      Department Stores       29.277840       29.277840  \n1                 Grocery       29.264055       29.264055  \n13                Grocery       25.468542       25.468542  \n12            Electronics       25.183585       25.183585  \n9                 Grocery       24.432072       24.432072  \n22      Department Stores       16.304534       16.304534  \n23                Grocery       14.219531       14.219531  \n18                Grocery       12.074221       12.074221  \n4             Drug Stores        9.863034        9.863034  \n17                Apparel        9.029603        9.029603  \n5             Drug Stores        7.927443        7.927443  \n14            Drug Stores        6.036899        6.036899  \n19          Dollar Stores        1.665468        1.665468  \n20          Dollar Stores        1.506246        1.506246  \n6   Electronic/Mail Order             NaN             NaN  \n11                    NaN             NaN             NaN  ",
      "text/html": "<div>\n<style scoped>\n    .dataframe tbody tr th:only-of-type {\n        vertical-align: middle;\n    }\n\n    .dataframe tbody tr th {\n        vertical-align: top;\n    }\n\n    .dataframe thead th {\n        text-align: right;\n    }\n</style>\n<table border=\"1\" class=\"dataframe\">\n  <thead>\n    <tr style=\"text-align: right;\">\n      <th></th>\n      <th>Company</th>\n      <th>Sales</th>\n      <th>Stores</th>\n      <th>Sales/Avg. Store</th>\n      <th>Store Count Growth</th>\n      <th>Category</th>\n      <th>sales_by_store</th>\n      <th>Sales by store</th>\n    </tr>\n  </thead>\n  <tbody>\n    <tr>\n      <th>2</th>\n      <td>Costco</td>\n      <td>90048</td>\n      <td>495.0</td>\n      <td>187.795620</td>\n      <td>0.066810</td>\n      <td>Warehouse Club</td>\n      <td>181.915152</td>\n      <td>181.915152</td>\n    </tr>\n    <tr>\n      <th>0</th>\n      <td>Walmart US</td>\n      <td>658119</td>\n      <td>4574.0</td>\n      <td>65.649725</td>\n      <td>0.012843</td>\n      <td>Supercenters</td>\n      <td>143.882597</td>\n      <td>143.882597</td>\n    </tr>\n    <tr>\n      <th>10</th>\n      <td>Sam's Club</td>\n      <td>56828</td>\n      <td>655.0</td>\n      <td>87.293395</td>\n      <td>0.012365</td>\n      <td>Warehouse Clubs</td>\n      <td>86.760305</td>\n      <td>86.760305</td>\n    </tr>\n    <tr>\n      <th>24</th>\n      <td>Meijer</td>\n      <td>16592</td>\n      <td>231.0</td>\n      <td>74.738739</td>\n      <td>0.084507</td>\n      <td>Supercenters</td>\n      <td>71.826840</td>\n      <td>71.826840</td>\n    </tr>\n    <tr>\n      <th>21</th>\n      <td>HEB</td>\n      <td>21384</td>\n      <td>323.0</td>\n      <td>66.825000</td>\n      <td>0.018927</td>\n      <td>Grocery</td>\n      <td>66.204334</td>\n      <td>66.204334</td>\n    </tr>\n    <tr>\n      <th>3</th>\n      <td>Home Depot</td>\n      <td>83976</td>\n      <td>1965.0</td>\n      <td>42.735878</td>\n      <td>0.000000</td>\n      <td>Home Improvement</td>\n      <td>42.735878</td>\n      <td>42.735878</td>\n    </tr>\n    <tr>\n      <th>7</th>\n      <td>Target</td>\n      <td>71208</td>\n      <td>1772.0</td>\n      <td>39.982033</td>\n      <td>-0.010056</td>\n      <td>Supercenters</td>\n      <td>40.185102</td>\n      <td>40.185102</td>\n    </tr>\n    <tr>\n      <th>15</th>\n      <td>Ahold</td>\n      <td>26903</td>\n      <td>794.0</td>\n      <td>34.446863</td>\n      <td>0.033854</td>\n      <td>Grocery</td>\n      <td>33.882872</td>\n      <td>33.882872</td>\n    </tr>\n    <tr>\n      <th>8</th>\n      <td>Lowe's</td>\n      <td>60311</td>\n      <td>1828.0</td>\n      <td>33.311792</td>\n      <td>0.019520</td>\n      <td>Home Improvement</td>\n      <td>32.992888</td>\n      <td>32.992888</td>\n    </tr>\n    <tr>\n      <th>16</th>\n      <td>Macy's</td>\n      <td>26028</td>\n      <td>889.0</td>\n      <td>30.442105</td>\n      <td>0.082826</td>\n      <td>Department Stores</td>\n      <td>29.277840</td>\n      <td>29.277840</td>\n    </tr>\n    <tr>\n      <th>1</th>\n      <td>Kroger</td>\n      <td>115037</td>\n      <td>3931.0</td>\n      <td>30.031850</td>\n      <td>0.053887</td>\n      <td>Grocery</td>\n      <td>29.264055</td>\n      <td>29.264055</td>\n    </tr>\n    <tr>\n      <th>13</th>\n      <td>Publix</td>\n      <td>34408</td>\n      <td>1351.0</td>\n      <td>25.997733</td>\n      <td>0.042438</td>\n      <td>Grocery</td>\n      <td>25.468542</td>\n      <td>25.468542</td>\n    </tr>\n    <tr>\n      <th>12</th>\n      <td>Best Buy</td>\n      <td>34980</td>\n      <td>1389.0</td>\n      <td>24.685956</td>\n      <td>-0.038754</td>\n      <td>Electronics</td>\n      <td>25.183585</td>\n      <td>25.183585</td>\n    </tr>\n    <tr>\n      <th>9</th>\n      <td>Albertsons</td>\n      <td>56829</td>\n      <td>2326.0</td>\n      <td>23.877731</td>\n      <td>-0.044371</td>\n      <td>Grocery</td>\n      <td>24.432072</td>\n      <td>24.432072</td>\n    </tr>\n    <tr>\n      <th>22</th>\n      <td>Kohl's</td>\n      <td>19060</td>\n      <td>1169.0</td>\n      <td>16.353496</td>\n      <td>0.006024</td>\n      <td>Department Stores</td>\n      <td>16.304534</td>\n      <td>16.304534</td>\n    </tr>\n    <tr>\n      <th>23</th>\n      <td>Delhaize</td>\n      <td>18201</td>\n      <td>1280.0</td>\n      <td>13.783415</td>\n      <td>-0.059515</td>\n      <td>Grocery</td>\n      <td>14.219531</td>\n      <td>14.219531</td>\n    </tr>\n    <tr>\n      <th>18</th>\n      <td>Aldi</td>\n      <td>24402</td>\n      <td>2021.0</td>\n      <td>12.715998</td>\n      <td>0.112273</td>\n      <td>Grocery</td>\n      <td>12.074221</td>\n      <td>12.074221</td>\n    </tr>\n    <tr>\n      <th>4</th>\n      <td>Walgreen Boots</td>\n      <td>78924</td>\n      <td>8002.0</td>\n      <td>9.810927</td>\n      <td>-0.010511</td>\n      <td>Drug Stores</td>\n      <td>9.863034</td>\n      <td>9.863034</td>\n    </tr>\n    <tr>\n      <th>17</th>\n      <td>TJX</td>\n      <td>25012</td>\n      <td>2770.0</td>\n      <td>9.369545</td>\n      <td>0.078241</td>\n      <td>Apparel</td>\n      <td>9.029603</td>\n      <td>9.029603</td>\n    </tr>\n    <tr>\n      <th>5</th>\n      <td>CVS incl. Target</td>\n      <td>77792</td>\n      <td>9813.0</td>\n      <td>8.825959</td>\n      <td>0.255662</td>\n      <td>Drug Stores</td>\n      <td>7.927443</td>\n      <td>7.927443</td>\n    </tr>\n    <tr>\n      <th>14</th>\n      <td>Rite Aid</td>\n      <td>27486</td>\n      <td>4553.0</td>\n      <td>6.025649</td>\n      <td>-0.003720</td>\n      <td>Drug Stores</td>\n      <td>6.036899</td>\n      <td>6.036899</td>\n    </tr>\n    <tr>\n      <th>19</th>\n      <td>Dollar General</td>\n      <td>22234</td>\n      <td>13350.0</td>\n      <td>1.768885</td>\n      <td>0.132412</td>\n      <td>Dollar Stores</td>\n      <td>1.665468</td>\n      <td>1.665468</td>\n    </tr>\n    <tr>\n      <th>20</th>\n      <td>Dollar Tree</td>\n      <td>21464</td>\n      <td>14250.0</td>\n      <td>1.563919</td>\n      <td>0.079627</td>\n      <td>Dollar Stores</td>\n      <td>1.506246</td>\n      <td>1.506246</td>\n    </tr>\n    <tr>\n      <th>6</th>\n      <td>Amazon</td>\n      <td>71687</td>\n      <td>NaN</td>\n      <td>NaN</td>\n      <td>NaN</td>\n      <td>Electronic/Mail Order</td>\n      <td>NaN</td>\n      <td>NaN</td>\n    </tr>\n    <tr>\n      <th>11</th>\n      <td>Apple incl. Online</td>\n      <td>37664</td>\n      <td>NaN</td>\n      <td>NaN</td>\n      <td>NaN</td>\n      <td>NaN</td>\n      <td>NaN</td>\n      <td>NaN</td>\n    </tr>\n  </tbody>\n</table>\n</div>"
     },
     "metadata": {}
    }
   ]
  },
  {
   "cell_type": "markdown",
   "source": "Sin contar las empresas que no tienen tiendas físicas ( Que serian las que mas dinero generan en función de sus tiendas, como Amazon ). La compañia que más dinero genera en función de sus tiendas físicas es Costco con una proporcion de ventas/tiendas de 181",
   "metadata": {
    "cell_id": "e11121d5-e91c-4c5c-924a-19d9c86e5930",
    "tags": [],
    "deepnote_app_coordinates": {
     "x": 0,
     "y": 276,
     "w": 12,
     "h": 5
    },
    "deepnote_cell_type": "markdown"
   }
  },
  {
   "cell_type": "code",
   "source": "sales_by_store = df_sorted.sort_values('Sales by store')[df_sorted['Sales by store'].notna()]['Sales by store']\ncompanies  =  df_sorted.sort_values('Sales by store')[df_sorted['Sales by store'].notna()]['Company']\ndf_sorted_salesbystore = df_sorted.sort_values('Sales by store')[df_sorted['Sales by store'].notna()]\n\n\nfig = plt.figure(figsize = (10,10))\nax = fig.add_subplot()\n\nplt.stem(sales_by_store, orientation='horizontal',linefmt='k',markerfmt='C2o')\nax.set_yticks([i for i in range(len(companies))])\nax.set_yticklabels(companies)\nplt.ylabel('Companies')\nplt.xlabel('Sales/Stores')\nplt.grid(axis='y')\n\ny_range = np.arange(1, len(df_sorted_salesbystore.index) + 1)\n\nfor (_, row), y in zip(df_sorted_salesbystore.iterrows(), y_range):\n    \n    plt.annotate(int(row['Sales by store']), (row[\"Sales by store\"]+10, y-1.1))\n\nplt.xlim(-20, max(sales_by_store)+ 100)\n\nplt.title('Company ratio sales/stores')\n\nplt.show()",
   "metadata": {
    "cell_id": "73b3c8fd-2061-4625-803a-7aefa979a5b4",
    "tags": [],
    "deepnote_to_be_reexecuted": false,
    "source_hash": "9b37834c",
    "execution_start": 1645682240550,
    "execution_millis": 813,
    "deepnote_app_coordinates": {
     "x": 0,
     "y": 282,
     "w": 12,
     "h": 5
    },
    "deepnote_cell_type": "code"
   },
   "outputs": [
    {
     "name": "stderr",
     "text": "/shared-libs/python3.7/py-core/lib/python3.7/site-packages/ipykernel_launcher.py:1: UserWarning: Boolean Series key will be reindexed to match DataFrame index.\n  \"\"\"Entry point for launching an IPython kernel.\n/shared-libs/python3.7/py-core/lib/python3.7/site-packages/ipykernel_launcher.py:2: UserWarning: Boolean Series key will be reindexed to match DataFrame index.\n  \n/shared-libs/python3.7/py-core/lib/python3.7/site-packages/ipykernel_launcher.py:3: UserWarning: Boolean Series key will be reindexed to match DataFrame index.\n  This is separate from the ipykernel package so we can avoid doing imports until\n",
     "output_type": "stream"
    },
    {
     "data": {
      "text/plain": "<Figure size 720x720 with 1 Axes>",
      "image/png": "[encoded data removed]"
     },
     "metadata": {
      "needs_background": "light",
      "image/png": {
       "width": 671,
       "height": 604
      }
     },
     "output_type": "display_data"
    }
   ],
   "execution_count": 44
  },
  {
   "cell_type": "markdown",
   "source": "### 9. ¿Cuáles compañías venden de forma exclusivamente online? ¿Sus ventas destacan sobre las que también tienen tiendas físicas?",
   "metadata": {
    "cell_id": "e9a00ffe-de8a-41f0-98e7-67b905d0d14f",
    "tags": [],
    "deepnote_cell_height": 158,
    "deepnote_app_coordinates": {
     "x": 0,
     "y": 234,
     "w": 12,
     "h": 5
    },
    "deepnote_cell_type": "markdown"
   }
  },
  {
   "cell_type": "code",
   "metadata": {
    "cell_id": "cb6d5d30-783d-44af-9c84-f31689cb3487",
    "tags": [],
    "deepnote_cell_height": 66,
    "deepnote_to_be_reexecuted": false,
    "source_hash": "3b1e0660",
    "execution_start": 1645682438817,
    "execution_millis": 30,
    "deepnote_app_coordinates": {
     "x": 0,
     "y": 240,
     "w": 12,
     "h": 5
    },
    "deepnote_cell_type": "code"
   },
   "source": "no_store_companies = df_sorted[df_sorted['Stores'].isna()]['Company']\nno_store_companies",
   "execution_count": 51,
   "outputs": [
    {
     "output_type": "execute_result",
     "execution_count": 51,
     "data": {
      "text/plain": "6                 Amazon\n11    Apple incl. Online\nName: Company, dtype: object"
     },
     "metadata": {}
    }
   ]
  },
  {
   "cell_type": "code",
   "source": "for comp in no_store_companies:\n    print(\"La compañia %s esta en la posición n°%i en ventas\"%( comp ,df_sorted.index[df_sorted['Company']==comp][0]))",
   "metadata": {
    "cell_id": "3271c805-6113-4a53-bc8e-3279de685e46",
    "tags": [],
    "deepnote_to_be_reexecuted": false,
    "source_hash": "1445003e",
    "execution_start": 1645682756970,
    "execution_millis": 479,
    "deepnote_app_coordinates": {
     "x": 0,
     "y": 288,
     "w": 12,
     "h": 5
    },
    "deepnote_cell_type": "code"
   },
   "outputs": [
    {
     "name": "stdout",
     "text": "La compañia Amazon esta en la posición n°6 en ventas\nLa compañia Apple incl. Online esta en la posición n°11 en ventas\n",
     "output_type": "stream"
    }
   ],
   "execution_count": 57
  },
  {
   "cell_type": "markdown",
   "source": "Tanto Amazon con Apple Online se ubican en posiciones altas del ranking de ventas.\nEn relación al resto tienen la ventaja de menores costos de mantenimiento de locales y personal aunque poseen mayores costos en servicios digitales que el resto.",
   "metadata": {
    "cell_id": "9c607da5-9e3e-453a-980f-a7a123f43141",
    "tags": [],
    "deepnote_app_coordinates": {
     "x": 0,
     "y": 294,
     "w": 12,
     "h": 5
    },
    "deepnote_cell_type": "markdown"
   }
  },
  {
   "cell_type": "markdown",
   "source": "## III. Tus propias preguntas",
   "metadata": {
    "cell_id": "58c80612-3fb2-4c71-9aab-813b121430a0",
    "tags": [],
    "deepnote_cell_height": 70,
    "deepnote_app_coordinates": {
     "x": 0,
     "y": 246,
     "w": 12,
     "h": 5
    },
    "deepnote_cell_type": "markdown"
   }
  },
  {
   "cell_type": "markdown",
   "source": "### 10. Pregunta",
   "metadata": {
    "cell_id": "fa60966b-7d95-43f0-9a1e-201f1373f1be",
    "tags": [],
    "deepnote_cell_height": 62,
    "deepnote_app_coordinates": {
     "x": 0,
     "y": 252,
     "w": 12,
     "h": 5
    },
    "deepnote_cell_type": "markdown"
   }
  },
  {
   "cell_type": "markdown",
   "source": "#### ¿Que categorias son las que mayor cantidad de tiendas físicas poseen en promedio?",
   "metadata": {
    "cell_id": "a81e6f60-75c3-4fd0-b3cf-614f508fe5e4",
    "tags": [],
    "deepnote_app_coordinates": {
     "x": 0,
     "y": 300,
     "w": 12,
     "h": 5
    },
    "deepnote_cell_type": "markdown"
   }
  },
  {
   "cell_type": "code",
   "metadata": {
    "cell_id": "52ea290f-004f-4aaa-8e1a-0d0908996b0a",
    "tags": [],
    "deepnote_cell_height": 66,
    "deepnote_to_be_reexecuted": false,
    "source_hash": "e6d8324",
    "execution_start": 1645683202049,
    "execution_millis": 220,
    "deepnote_app_coordinates": {
     "x": 0,
     "y": 258,
     "w": 12,
     "h": 5
    },
    "deepnote_cell_type": "code"
   },
   "source": "df_category_means =  df_sorted[df_sorted['Stores'].notna()].groupby('Category').mean().sort_values('Stores', ascending = False)\n\ndf_category_means",
   "execution_count": 61,
   "outputs": [
    {
     "output_type": "execute_result",
     "execution_count": 61,
     "data": {
      "application/vnd.deepnote.dataframe.v3+json": {
       "column_count": 6,
       "row_count": 10,
       "columns": [
        {
         "name": "Sales",
         "dtype": "float64",
         "stats": {
          "unique_count": 10,
          "nan_count": 0,
          "min": "21849.0",
          "max": "248639.66666666666",
          "histogram": [
           {
            "bin_start": 21849,
            "bin_end": 44528.066666666666,
            "count": 5
           },
           {
            "bin_start": 44528.066666666666,
            "bin_end": 67207.13333333333,
            "count": 2
           },
           {
            "bin_start": 67207.13333333333,
            "bin_end": 89886.2,
            "count": 1
           },
           {
            "bin_start": 89886.2,
            "bin_end": 112565.26666666666,
            "count": 1
           },
           {
            "bin_start": 112565.26666666666,
            "bin_end": 135244.3333333333,
            "count": 0
           },
           {
            "bin_start": 135244.3333333333,
            "bin_end": 157923.4,
            "count": 0
           },
           {
            "bin_start": 157923.4,
            "bin_end": 180602.46666666667,
            "count": 0
           },
           {
            "bin_start": 180602.46666666667,
            "bin_end": 203281.53333333333,
            "count": 0
           },
           {
            "bin_start": 203281.53333333333,
            "bin_end": 225960.59999999998,
            "count": 0
           },
           {
            "bin_start": 225960.59999999998,
            "bin_end": 248639.66666666666,
            "count": 1
           }
          ]
         }
        },
        {
         "name": "Stores",
         "dtype": "float64",
         "stats": {
          "unique_count": 10,
          "nan_count": 0,
          "min": "495.0",
          "max": "13800.0",
          "histogram": [
           {
            "bin_start": 495,
            "bin_end": 1825.5,
            "count": 5
           },
           {
            "bin_start": 1825.5,
            "bin_end": 3156,
            "count": 3
           },
           {
            "bin_start": 3156,
            "bin_end": 4486.5,
            "count": 0
           },
           {
            "bin_start": 4486.5,
            "bin_end": 5817,
            "count": 0
           },
           {
            "bin_start": 5817,
            "bin_end": 7147.5,
            "count": 0
           },
           {
            "bin_start": 7147.5,
            "bin_end": 8478,
            "count": 1
           },
           {
            "bin_start": 8478,
            "bin_end": 9808.5,
            "count": 0
           },
           {
            "bin_start": 9808.5,
            "bin_end": 11139,
            "count": 0
           },
           {
            "bin_start": 11139,
            "bin_end": 12469.5,
            "count": 0
           },
           {
            "bin_start": 12469.5,
            "bin_end": 13800,
            "count": 1
           }
          ]
         }
        },
        {
         "name": "Sales/Avg. Store",
         "dtype": "float64",
         "stats": {
          "unique_count": 10,
          "nan_count": 0,
          "min": "1.6664017695",
          "max": "187.7956204",
          "histogram": [
           {
            "bin_start": 1.6664017695,
            "bin_end": 20.279323632549996,
            "count": 3
           },
           {
            "bin_start": 20.279323632549996,
            "bin_end": 38.892245495599994,
            "count": 4
           },
           {
            "bin_start": 38.892245495599994,
            "bin_end": 57.50516735864999,
            "count": 0
           },
           {
            "bin_start": 57.50516735864999,
            "bin_end": 76.11808922169999,
            "count": 1
           },
           {
            "bin_start": 76.11808922169999,
            "bin_end": 94.73101108474998,
            "count": 1
           },
           {
            "bin_start": 94.73101108474998,
            "bin_end": 113.34393294779998,
            "count": 0
           },
           {
            "bin_start": 113.34393294779998,
            "bin_end": 131.95685481085,
            "count": 0
           },
           {
            "bin_start": 131.95685481085,
            "bin_end": 150.56977667389998,
            "count": 0
           },
           {
            "bin_start": 150.56977667389998,
            "bin_end": 169.18269853694997,
            "count": 0
           },
           {
            "bin_start": 169.18269853694997,
            "bin_end": 187.7956204,
            "count": 1
           }
          ]
         }
        },
        {
         "name": "Store Count Growth",
         "dtype": "float64",
         "stats": {
          "unique_count": 10,
          "nan_count": 0,
          "min": "-0.03875432526",
          "max": "0.10601940729499999",
          "histogram": [
           {
            "bin_start": -0.03875432526,
            "bin_end": -0.024276952004500002,
            "count": 1
           },
           {
            "bin_start": -0.024276952004500002,
            "bin_end": -0.009799578749000004,
            "count": 0
           },
           {
            "bin_start": -0.009799578749000004,
            "bin_end": 0.004677794506499994,
            "count": 0
           },
           {
            "bin_start": 0.004677794506499994,
            "bin_end": 0.01915516776199999,
            "count": 2
           },
           {
            "bin_start": 0.01915516776199999,
            "bin_end": 0.03363254101749999,
            "count": 2
           },
           {
            "bin_start": 0.03363254101749999,
            "bin_end": 0.04810991427299999,
            "count": 1
           },
           {
            "bin_start": 0.04810991427299999,
            "bin_end": 0.06258728752849999,
            "count": 0
           },
           {
            "bin_start": 0.06258728752849999,
            "bin_end": 0.07706466078399998,
            "count": 1
           },
           {
            "bin_start": 0.07706466078399998,
            "bin_end": 0.09154203403949998,
            "count": 2
           },
           {
            "bin_start": 0.09154203403949998,
            "bin_end": 0.10601940729499999,
            "count": 1
           }
          ]
         }
        },
        {
         "name": "sales_by_store",
         "dtype": "float64",
         "stats": {
          "unique_count": 10,
          "nan_count": 0,
          "min": "1.5858568894145475",
          "max": "181.9151515151515",
          "histogram": [
           {
            "bin_start": 1.5858568894145475,
            "bin_end": 19.618786351988245,
            "count": 3
           },
           {
            "bin_start": 19.618786351988245,
            "bin_end": 37.651715814561946,
            "count": 3
           },
           {
            "bin_start": 37.651715814561946,
            "bin_end": 55.684645277135644,
            "count": 1
           },
           {
            "bin_start": 55.684645277135644,
            "bin_end": 73.71757473970933,
            "count": 0
           },
           {
            "bin_start": 73.71757473970933,
            "bin_end": 91.75050420228303,
            "count": 2
           },
           {
            "bin_start": 91.75050420228303,
            "bin_end": 109.78343366485673,
            "count": 0
           },
           {
            "bin_start": 109.78343366485673,
            "bin_end": 127.81636312743044,
            "count": 0
           },
           {
            "bin_start": 127.81636312743044,
            "bin_end": 145.84929259000413,
            "count": 0
           },
           {
            "bin_start": 145.84929259000413,
            "bin_end": 163.88222205257782,
            "count": 0
           },
           {
            "bin_start": 163.88222205257782,
            "bin_end": 181.9151515151515,
            "count": 1
           }
          ]
         }
        },
        {
         "name": "Sales by store",
         "dtype": "float64",
         "stats": {
          "unique_count": 10,
          "nan_count": 0,
          "min": "1.5858568894145475",
          "max": "181.9151515151515",
          "histogram": [
           {
            "bin_start": 1.5858568894145475,
            "bin_end": 19.618786351988245,
            "count": 3
           },
           {
            "bin_start": 19.618786351988245,
            "bin_end": 37.651715814561946,
            "count": 3
           },
           {
            "bin_start": 37.651715814561946,
            "bin_end": 55.684645277135644,
            "count": 1
           },
           {
            "bin_start": 55.684645277135644,
            "bin_end": 73.71757473970933,
            "count": 0
           },
           {
            "bin_start": 73.71757473970933,
            "bin_end": 91.75050420228303,
            "count": 2
           },
           {
            "bin_start": 91.75050420228303,
            "bin_end": 109.78343366485673,
            "count": 0
           },
           {
            "bin_start": 109.78343366485673,
            "bin_end": 127.81636312743044,
            "count": 0
           },
           {
            "bin_start": 127.81636312743044,
            "bin_end": 145.84929259000413,
            "count": 0
           },
           {
            "bin_start": 145.84929259000413,
            "bin_end": 163.88222205257782,
            "count": 0
           },
           {
            "bin_start": 163.88222205257782,
            "bin_end": 181.9151515151515,
            "count": 1
           }
          ]
         }
        },
        {
         "name": "_deepnote_index_column",
         "dtype": "object"
        }
       ],
       "rows": [
        {
         "Sales": 21849,
         "Stores": 13800,
         "Sales/Avg. Store": 1.6664017695,
         "Store Count Growth": 0.10601940729499999,
         "sales_by_store": 1.5858568894145475,
         "Sales by store": 1.5858568894145475,
         "_deepnote_index_column": "Dollar Stores"
        },
        {
         "Sales": 61400.666666666664,
         "Stores": 7456,
         "Sales/Avg. Store": 8.220844959666666,
         "Store Count Growth": 0.08047719314900001,
         "sales_by_store": 7.942458725708701,
         "Sales by store": 7.942458725708701,
         "_deepnote_index_column": "Drug Stores"
        },
        {
         "Sales": 25012,
         "Stores": 2770,
         "Sales/Avg. Store": 9.369544859,
         "Store Count Growth": 0.07824056053,
         "sales_by_store": 9.029602888086643,
         "Sales by store": 9.029602888086643,
         "_deepnote_index_column": "Apparel"
        },
        {
         "Sales": 248639.66666666666,
         "Stores": 2192.3333333333335,
         "Sales/Avg. Store": 60.12349876,
         "Store Count Growth": 0.029098133473333333,
         "sales_by_store": 85.2981795653334,
         "Sales by store": 85.2981795653334,
         "_deepnote_index_column": "Supercenters"
        },
        {
         "Sales": 72143.5,
         "Stores": 1896.5,
         "Sales/Avg. Store": 38.023835090000006,
         "Store Count Growth": 0.00976017847,
         "sales_by_store": 37.86438313261063,
         "Sales by store": 37.86438313261063,
         "_deepnote_index_column": "Home Improvement"
        },
        {
         "Sales": 42452,
         "Stores": 1718,
         "Sales/Avg. Store": 29.66837004142857,
         "Store Count Growth": 0.022499113197142855,
         "sales_by_store": 29.363660975771754,
         "Sales by store": 29.363660975771754,
         "_deepnote_index_column": "Grocery"
        },
        {
         "Sales": 34980,
         "Stores": 1389,
         "Sales/Avg. Store": 24.68595625,
         "Store Count Growth": -0.03875432526,
         "sales_by_store": 25.183585313174945,
         "Sales by store": 25.183585313174945,
         "_deepnote_index_column": "Electronics"
        },
        {
         "Sales": 22544,
         "Stores": 1029,
         "Sales/Avg. Store": 23.397800805000003,
         "Store Count Growth": 0.044424959278,
         "sales_by_store": 22.79118702976499,
         "Sales by store": 22.79118702976499,
         "_deepnote_index_column": "Department Stores"
        },
        {
         "Sales": 56828,
         "Stores": 655,
         "Sales/Avg. Store": 87.29339478,
         "Store Count Growth": 0.01236476043,
         "sales_by_store": 86.76030534351145,
         "Sales by store": 86.76030534351145,
         "_deepnote_index_column": "Warehouse Clubs"
        },
        {
         "Sales": 90048,
         "Stores": 495,
         "Sales/Avg. Store": 187.7956204,
         "Store Count Growth": 0.06681034483,
         "sales_by_store": 181.9151515151515,
         "Sales by store": 181.9151515151515,
         "_deepnote_index_column": "Warehouse Club"
        }
       ]
      },
      "text/plain": "                           Sales        Stores  Sales/Avg. Store  \\\nCategory                                                           \nDollar Stores       21849.000000  13800.000000          1.666402   \nDrug Stores         61400.666667   7456.000000          8.220845   \nApparel             25012.000000   2770.000000          9.369545   \nSupercenters       248639.666667   2192.333333         60.123499   \nHome Improvement    72143.500000   1896.500000         38.023835   \nGrocery             42452.000000   1718.000000         29.668370   \nElectronics         34980.000000   1389.000000         24.685956   \nDepartment Stores   22544.000000   1029.000000         23.397801   \nWarehouse Clubs     56828.000000    655.000000         87.293395   \nWarehouse Club      90048.000000    495.000000        187.795620   \n\n                   Store Count Growth  sales_by_store  Sales by store  \nCategory                                                               \nDollar Stores                0.106019        1.585857        1.585857  \nDrug Stores                  0.080477        7.942459        7.942459  \nApparel                      0.078241        9.029603        9.029603  \nSupercenters                 0.029098       85.298180       85.298180  \nHome Improvement             0.009760       37.864383       37.864383  \nGrocery                      0.022499       29.363661       29.363661  \nElectronics                 -0.038754       25.183585       25.183585  \nDepartment Stores            0.044425       22.791187       22.791187  \nWarehouse Clubs              0.012365       86.760305       86.760305  \nWarehouse Club               0.066810      181.915152      181.915152  ",
      "text/html": "<div>\n<style scoped>\n    .dataframe tbody tr th:only-of-type {\n        vertical-align: middle;\n    }\n\n    .dataframe tbody tr th {\n        vertical-align: top;\n    }\n\n    .dataframe thead th {\n        text-align: right;\n    }\n</style>\n<table border=\"1\" class=\"dataframe\">\n  <thead>\n    <tr style=\"text-align: right;\">\n      <th></th>\n      <th>Sales</th>\n      <th>Stores</th>\n      <th>Sales/Avg. Store</th>\n      <th>Store Count Growth</th>\n      <th>sales_by_store</th>\n      <th>Sales by store</th>\n    </tr>\n    <tr>\n      <th>Category</th>\n      <th></th>\n      <th></th>\n      <th></th>\n      <th></th>\n      <th></th>\n      <th></th>\n    </tr>\n  </thead>\n  <tbody>\n    <tr>\n      <th>Dollar Stores</th>\n      <td>21849.000000</td>\n      <td>13800.000000</td>\n      <td>1.666402</td>\n      <td>0.106019</td>\n      <td>1.585857</td>\n      <td>1.585857</td>\n    </tr>\n    <tr>\n      <th>Drug Stores</th>\n      <td>61400.666667</td>\n      <td>7456.000000</td>\n      <td>8.220845</td>\n      <td>0.080477</td>\n      <td>7.942459</td>\n      <td>7.942459</td>\n    </tr>\n    <tr>\n      <th>Apparel</th>\n      <td>25012.000000</td>\n      <td>2770.000000</td>\n      <td>9.369545</td>\n      <td>0.078241</td>\n      <td>9.029603</td>\n      <td>9.029603</td>\n    </tr>\n    <tr>\n      <th>Supercenters</th>\n      <td>248639.666667</td>\n      <td>2192.333333</td>\n      <td>60.123499</td>\n      <td>0.029098</td>\n      <td>85.298180</td>\n      <td>85.298180</td>\n    </tr>\n    <tr>\n      <th>Home Improvement</th>\n      <td>72143.500000</td>\n      <td>1896.500000</td>\n      <td>38.023835</td>\n      <td>0.009760</td>\n      <td>37.864383</td>\n      <td>37.864383</td>\n    </tr>\n    <tr>\n      <th>Grocery</th>\n      <td>42452.000000</td>\n      <td>1718.000000</td>\n      <td>29.668370</td>\n      <td>0.022499</td>\n      <td>29.363661</td>\n      <td>29.363661</td>\n    </tr>\n    <tr>\n      <th>Electronics</th>\n      <td>34980.000000</td>\n      <td>1389.000000</td>\n      <td>24.685956</td>\n      <td>-0.038754</td>\n      <td>25.183585</td>\n      <td>25.183585</td>\n    </tr>\n    <tr>\n      <th>Department Stores</th>\n      <td>22544.000000</td>\n      <td>1029.000000</td>\n      <td>23.397801</td>\n      <td>0.044425</td>\n      <td>22.791187</td>\n      <td>22.791187</td>\n    </tr>\n    <tr>\n      <th>Warehouse Clubs</th>\n      <td>56828.000000</td>\n      <td>655.000000</td>\n      <td>87.293395</td>\n      <td>0.012365</td>\n      <td>86.760305</td>\n      <td>86.760305</td>\n    </tr>\n    <tr>\n      <th>Warehouse Club</th>\n      <td>90048.000000</td>\n      <td>495.000000</td>\n      <td>187.795620</td>\n      <td>0.066810</td>\n      <td>181.915152</td>\n      <td>181.915152</td>\n    </tr>\n  </tbody>\n</table>\n</div>"
     },
     "metadata": {}
    }
   ]
  },
  {
   "cell_type": "code",
   "source": "stores_by_category = df_category_means['Stores'][::-1]\ncategory = df_category_means.index[::-1]\n\n\nfig = plt.figure(figsize = (10,10))\nax = fig.add_subplot()\n\nplt.stem(stores_by_category, orientation='horizontal',linefmt='k',markerfmt='C3o')\nax.set_yticks([i for i in range(len(category))])\nax.set_yticklabels(category)\nplt.ylabel('Category')\nplt.xlabel('Av.Stores')\nplt.grid(axis='y')\n\ny_range = np.arange(1, len(category) + 1)\n\nfor stor, y in zip(stores_by_category, y_range):\n    \n    plt.annotate(int(stor), (stor+300, y-1.1))\n\nplt.xlim(-20, max(stores_by_category)+ 2000)\n\nplt.title('Av.Stores by category')\n\nplt.show()",
   "metadata": {
    "cell_id": "5c1f546d-6658-4ac4-9768-8445f4a9c510",
    "tags": [],
    "deepnote_to_be_reexecuted": false,
    "source_hash": "802a7755",
    "execution_start": 1645683480075,
    "execution_millis": 440,
    "deepnote_app_coordinates": {
     "x": 0,
     "y": 306,
     "w": 12,
     "h": 5
    },
    "deepnote_cell_type": "code"
   },
   "outputs": [
    {
     "data": {
      "text/plain": "<Figure size 720x720 with 1 Axes>",
      "image/png": "[encoded data removed]"
     },
     "metadata": {
      "needs_background": "light",
      "image/png": {
       "width": 692,
       "height": 604
      }
     },
     "output_type": "display_data"
    }
   ],
   "execution_count": 69
  },
  {
   "cell_type": "markdown",
   "source": "### 11. Pregunta",
   "metadata": {
    "cell_id": "83e0e566-969d-4872-b32d-915ac945a370",
    "tags": [],
    "deepnote_cell_height": 62,
    "deepnote_app_coordinates": {
     "x": 0,
     "y": 264,
     "w": 12,
     "h": 5
    },
    "deepnote_cell_type": "markdown"
   }
  },
  {
   "cell_type": "markdown",
   "source": "#### ¿Cual es la empresa que más creció en tiendas el último año? ¿Y en relación a sus ventas?",
   "metadata": {
    "cell_id": "af9acdc3-1aa3-4e96-93c3-22952276c4e0",
    "tags": [],
    "deepnote_app_coordinates": {
     "x": 0,
     "y": 312,
     "w": 12,
     "h": 5
    },
    "deepnote_cell_type": "markdown"
   }
  },
  {
   "cell_type": "code",
   "source": "df_company_growth = df_sorted.sort_values('Store Count Growth', ascending=False)[df_sorted['Store Count Growth'].notna()]",
   "metadata": {
    "cell_id": "ad53b267-2600-48f5-8612-18c5a071d2ba",
    "tags": [],
    "deepnote_to_be_reexecuted": false,
    "source_hash": "d7a377aa",
    "execution_start": 1645684988666,
    "execution_millis": 230,
    "deepnote_app_coordinates": {
     "x": 0,
     "y": 318,
     "w": 12,
     "h": 5
    },
    "deepnote_cell_type": "code"
   },
   "outputs": [
    {
     "name": "stderr",
     "text": "/shared-libs/python3.7/py-core/lib/python3.7/site-packages/ipykernel_launcher.py:1: UserWarning: Boolean Series key will be reindexed to match DataFrame index.\n  \"\"\"Entry point for launching an IPython kernel.\n",
     "output_type": "stream"
    }
   ],
   "execution_count": 75
  },
  {
   "cell_type": "markdown",
   "source": "#### La compañia que más creció en el año:",
   "metadata": {
    "cell_id": "3f00c1db-acdc-46ec-b10d-3352c14ea446",
    "tags": [],
    "deepnote_app_coordinates": {
     "x": 0,
     "y": 336,
     "w": 12,
     "h": 5
    },
    "deepnote_cell_type": "markdown"
   }
  },
  {
   "cell_type": "code",
   "source": "df_company_growth.iloc[0]",
   "metadata": {
    "cell_id": "d53fc982-f889-4137-9121-94ba4e4a4eef",
    "tags": [],
    "deepnote_to_be_reexecuted": false,
    "source_hash": "a39e3c2a",
    "execution_start": 1645685453094,
    "execution_millis": 22,
    "deepnote_app_coordinates": {
     "x": 0,
     "y": 330,
     "w": 12,
     "h": 5
    },
    "deepnote_cell_type": "code"
   },
   "outputs": [
    {
     "output_type": "execute_result",
     "execution_count": 90,
     "data": {
      "text/plain": "Company               CVS incl. Target\nSales                            77792\nStores                          9813.0\nSales/Avg. Store              8.825959\nStore Count Growth            0.255662\nCategory                   Drug Stores\nsales_by_store                7.927443\nSales by store                7.927443\nName: 5, dtype: object"
     },
     "metadata": {}
    }
   ],
   "execution_count": 90
  },
  {
   "cell_type": "code",
   "source": "store_growth = df_company_growth['Store Count Growth'][::-1]*100\ncompany = df_company_growth['Company'][::-1]\n\nfig = plt.figure(figsize = (10,10))\nax = fig.add_subplot()\n\nplt.stem(store_growth, orientation='horizontal',linefmt='k',markerfmt='C3o')\nax.set_yticks([i for i in range(len(company))])\nax.set_yticklabels(company)\nplt.ylabel('Company')\nplt.xlabel('Store Growth (%)')\nplt.grid(axis='y')\n\ny_range = np.arange(1, len(company) + 1)\n\nfor stor, y in zip(store_growth, y_range):\n    \n    x = stor +2 if stor >0 else stor-8\n    \n    plt.annotate(\"{:10.2f}\".format(stor), (x, y-1.1))\n\nplt.xlim(-35, 35)\n\nplt.title('Store growth by company')\n\nplt.show()",
   "metadata": {
    "cell_id": "765a7756-4be2-4c5d-8ce8-9df6a3e89f82",
    "tags": [],
    "deepnote_to_be_reexecuted": false,
    "source_hash": "e59029ad",
    "execution_start": 1645686728023,
    "execution_millis": 840,
    "deepnote_app_coordinates": {
     "x": 0,
     "y": 324,
     "w": 12,
     "h": 5
    },
    "deepnote_cell_type": "code"
   },
   "outputs": [
    {
     "data": {
      "text/plain": "<Figure size 720x720 with 1 Axes>",
      "image/png": "[encoded data removed]"
     },
     "metadata": {
      "needs_background": "light",
      "image/png": {
       "width": 671,
       "height": 604
      }
     },
     "output_type": "display_data"
    }
   ],
   "execution_count": 101
  },
  {
   "cell_type": "markdown",
   "source": "#### La compañia que más creció en función de sus ventas",
   "metadata": {
    "cell_id": "09fc566a-c4bc-463b-920a-571d02b3a5e8",
    "tags": [],
    "deepnote_app_coordinates": {
     "x": 0,
     "y": 342,
     "w": 12,
     "h": 5
    },
    "deepnote_cell_type": "markdown"
   }
  },
  {
   "cell_type": "code",
   "source": "growth_by_sales = store_growth/sales\ndf_company_growth['Store Growth by Sales'] = growth_by_sales\ndf_company_growth = df_company_growth.sort_values('Store Growth by Sales',ascending=False)\nsales = df_company_growth['Sales'][::1]\ngrowth_by_sales = df_company_growth['Store Growth by Sales'][::-1]\ncompany = df_company_growth['Company'][::-1]\n\nfig = plt.figure(figsize = (10,10))\nax = fig.add_subplot()\n\nplt.stem(growth_by_sales, orientation='horizontal',linefmt='k',markerfmt='C3o')\nax.set_yticks([i for i in range(len(company))])\nax.set_yticklabels(company)\nplt.ylabel('Company')\nplt.xlabel('Store Growth by Sales (%)')\nplt.grid(axis='y')\n\ny_range = np.arange(1, len(company) + 1)\n\nfor stor, y in zip(growth_by_sales, y_range):\n    \n    x = stor +0.0001 if stor >0 else stor-0.0002\n    \n    plt.annotate(\"{:.2e}\".format(stor), (x, y-1.1))\n\nplt.xlim(-0.001,0.001)\n\n\nplt.title('Store growth by Sales company')\n\nplt.show()",
   "metadata": {
    "cell_id": "7bd2f4ad-a431-4954-9842-c1afaea089c5",
    "tags": [],
    "deepnote_to_be_reexecuted": false,
    "source_hash": "b292b89e",
    "execution_start": 1645686954868,
    "execution_millis": 1043,
    "deepnote_app_coordinates": {
     "x": 0,
     "y": 348,
     "w": 12,
     "h": 5
    },
    "deepnote_cell_type": "code"
   },
   "outputs": [
    {
     "data": {
      "text/plain": "<Figure size 720x720 with 1 Axes>",
      "image/png": "[encoded data removed]"
     },
     "metadata": {
      "needs_background": "light",
      "image/png": {
       "width": 692,
       "height": 604
      }
     },
     "output_type": "display_data"
    }
   ],
   "execution_count": 115
  },
  {
   "cell_type": "markdown",
   "source": "### 12. Pregunta",
   "metadata": {
    "cell_id": "d5a17c31-5e8f-4d67-9679-c5705053de69",
    "tags": [],
    "deepnote_cell_height": 62,
    "deepnote_app_coordinates": {
     "x": 0,
     "y": 270,
     "w": 12,
     "h": 5
    },
    "deepnote_cell_type": "markdown"
   }
  },
  {
   "cell_type": "markdown",
   "source": "#### ¿Cuál es la empresa que más destaca sobre el resto?",
   "metadata": {
    "cell_id": "b1bcbc6c-73db-4c2c-9d5a-0544216b22af",
    "tags": [],
    "deepnote_app_coordinates": {
     "x": 0,
     "y": 354,
     "w": 12,
     "h": 5
    },
    "deepnote_cell_type": "markdown"
   }
  },
  {
   "cell_type": "code",
   "source": "# Import libraries\nfrom mpl_toolkits import mplot3d\nimport numpy as np\nimport matplotlib.pyplot as plt\n\nsales = df_sorted[df_sorted['Stores'].notna()]['Sales']\nstores = df_sorted[df_sorted['Stores'].notna()]['Stores']\nstores_grwth = df_sorted[df_sorted['Stores'].notna()]['Store Count Growth']\ncompanies = df_sorted[df_sorted['Stores'].notna()]['Company']\n\nx, y,z =  stores, store_growth,sales\n\n# Creating figure\nfig = plt.figure(figsize = (16, 9))\nax = plt.axes(projection =\"3d\")\n\n# Add x, y gridlines\nax.grid(b = True, color ='grey',\n\t\tlinestyle ='-.', linewidth = 0.3,\n\t\talpha = 0.2)\n\n\n# Creating color map\nmy_cmap = plt.get_cmap('rainbow', len(sales))\n\n# Creating plot\nsctt = ax.scatter3D(x, y, z,\n\t\t\t\t\talpha = 0.8,\n\t\t\t\t\tc = list(range(len(sales))),\n\t\t\t\t\tcmap = my_cmap,\n                    s=100,\n\t\t\t\t\tmarker ='^')\n\nplt.title(\"simple 3D scatter plot\")\nax.set_xlabel('Stores', fontweight ='bold')\nax.set_ylabel('Stores Growth', fontweight ='bold')\nax.set_zlabel('Sales', fontweight ='bold')\ncb = fig.colorbar(sctt, ax = ax,ticks =list(range(len(sales))) ,  shrink = 0.5, aspect = 5)\ncb.ax.set_yticklabels(companies)\n\nplt.tight_layout()\n# show plot\nplt.show()\n",
   "metadata": {
    "cell_id": "a1183d6c-3b69-4e90-a72c-8091d499e4f1",
    "tags": [],
    "deepnote_to_be_reexecuted": false,
    "source_hash": "5df4a7f0",
    "execution_start": 1645688787615,
    "execution_millis": 974,
    "deepnote_app_coordinates": {
     "x": 0,
     "y": 366,
     "w": 12,
     "h": 5
    },
    "deepnote_cell_type": "code"
   },
   "outputs": [
    {
     "name": "stderr",
     "text": "/shared-libs/python3.7/py-core/lib/python3.7/site-packages/ipykernel_launcher.py:20: MatplotlibDeprecationWarning: The 'b' parameter of grid() has been renamed 'visible' since Matplotlib 3.5; support for the old name will be dropped two minor releases later.\n",
     "output_type": "stream"
    },
    {
     "data": {
      "text/plain": "<Figure size 1152x648 with 2 Axes>",
      "image/png": "[encoded data removed]"
     },
     "metadata": {
      "needs_background": "light",
      "image/png": {
       "width": 827,
       "height": 640
      }
     },
     "output_type": "display_data"
    }
   ],
   "execution_count": 126
  },
  {
   "cell_type": "markdown",
   "source": "",
   "metadata": {
    "cell_id": "aad80f1a-dbdb-44a2-a676-50933f2922ed",
    "tags": [],
    "deepnote_app_coordinates": {
     "x": 0,
     "y": 360,
     "w": 12,
     "h": 5
    },
    "deepnote_cell_type": "markdown"
   }
  },
  {
   "cell_type": "markdown",
   "source": "<a style='text-decoration:none;line-height:16px;display:flex;color:#5B5B62;padding:10px;justify-content:end;' href='https://deepnote.com?utm_source=created-in-deepnote-cell&projectId=a0e8cbdf-bb09-4f7a-b16e-58cf07006ed1' target=\"_blank\">\n<img alt='Created in deepnote.com' style='display:inline;max-height:16px;margin:0px;margin-right:7.5px;' src='data:image/svg+xml;base64,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' > </img>\nCreated in <span style='font-weight:600;margin-left:4px;'>Deepnote</span></a>",
   "metadata": {
    "tags": [],
    "created_in_deepnote_cell": true,
    "deepnote_cell_type": "markdown"
   }
  }
 ],
 "nbformat": 4,
 "nbformat_minor": 2,
 "metadata": {
  "orig_nbformat": 2,
  "deepnote": {
   "is_reactive": false
  },
  "deepnote_notebook_id": "85b76ea9-ace4-4c85-8b21-59120be91703",
  "deepnote_execution_queue": [],
  "deepnote_app_layout": "article"
 }
}